{
  "nbformat": 4,
  "nbformat_minor": 0,
  "metadata": {
    "colab": {
      "provenance": [],
      "authorship_tag": "ABX9TyM3OPRd0zST7zIiyhflZvOp",
      "include_colab_link": true
    },
    "kernelspec": {
      "name": "python3",
      "display_name": "Python 3"
    },
    "language_info": {
      "name": "python"
    }
  },
  "cells": [
    {
      "cell_type": "markdown",
      "metadata": {
        "id": "view-in-github",
        "colab_type": "text"
      },
      "source": [
        "<a href=\"https://colab.research.google.com/github/wesslen/dsba6211-summer2024/blob/main/notebooks/dsba6211_summer2024_lab7.ipynb\" target=\"_parent\"><img src=\"https://colab.research.google.com/assets/colab-badge.svg\" alt=\"Open In Colab\"/></a>"
      ]
    },
    {
      "cell_type": "markdown",
      "source": [
        "**This assignment you are to partially use ChatGPT or LLM's but only for Problems 4 and 6 which are to aid you in interpretating the results. You are not to use ChatGPT or another LLM for Problems 1, 2, 3, 5 and 7. For those, you are to use the [reference material](https://cienciadedatos.net/documentos/py51-arima-sarimax-models-python.html) provided in class.**"
      ],
      "metadata": {
        "id": "-cWnMgoqz6pF"
      }
    },
    {
      "cell_type": "markdown",
      "source": [
        "# Dependencies"
      ],
      "metadata": {
        "id": "GT3wps-7ijB_"
      }
    },
    {
      "cell_type": "code",
      "source": [
        "%%capture\n",
        "!pip install skforecast\n",
        "!pip install pmdarima"
      ],
      "metadata": {
        "id": "JyZjsFniC55s"
      },
      "execution_count": null,
      "outputs": []
    },
    {
      "cell_type": "code",
      "execution_count": null,
      "metadata": {
        "id": "krlmmEopC4vJ"
      },
      "outputs": [],
      "source": [
        "import numpy as np\n",
        "import pandas as pd\n",
        "import matplotlib.pyplot as plt\n",
        "\n",
        "# pmdarima\n",
        "from pmdarima import ARIMA\n",
        "from pmdarima import auto_arima\n",
        "# skforecast\n",
        "from skforecast.Sarimax import Sarimax\n",
        "from skforecast.ForecasterSarimax import ForecasterSarimax\n",
        "from skforecast.model_selection_sarimax import backtesting_sarimax\n",
        "from skforecast.model_selection_sarimax import grid_search_sarimax\n",
        "from skforecast.datasets import fetch_dataset\n",
        "# statsmodels\n",
        "from statsmodels.tsa.statespace.sarimax import SARIMAX\n",
        "from statsmodels.tsa.stattools import adfuller\n",
        "from statsmodels.tsa.stattools import kpss\n",
        "from statsmodels.graphics.tsaplots import plot_acf, plot_pacf\n",
        "from statsmodels.tsa.seasonal import seasonal_decompose\n",
        "\n",
        "from sklearn.metrics import mean_absolute_error\n",
        "import warnings\n",
        "warnings.filterwarnings('ignore')"
      ]
    },
    {
      "cell_type": "markdown",
      "source": [
        "# Data"
      ],
      "metadata": {
        "id": "z7oaW7HgilpM"
      }
    },
    {
      "cell_type": "code",
      "source": [
        "url = \"https://fred.stlouisfed.org/graph/fredgraph.csv?bgcolor=%23e1e9f0&chart_type=line&drp=0&fo=open%20sans&graph_bgcolor=%23ffffff&height=450&mode=fred&recession_bars=on&txtcolor=%23444444&ts=12&tts=12&width=1138&nt=0&thu=0&trc=0&show_legend=yes&show_axis_titles=yes&show_tooltip=yes&id=ENPLANE&scale=left&cosd=2000-01-01&coed=2024-02-01&line_color=%234572a7&link_values=false&line_style=solid&mark_type=none&mw=3&lw=2&ost=-99999&oet=99999&mma=0&fml=a&fq=Monthly&fam=avg&fgst=lin&fgsnd=2020-02-01&line_index=1&transformation=lin&vintage_date=2024-06-27&revision_date=2024-06-27&nd=2000-01-01\"\n",
        "\n",
        "df = pd.read_csv(url, index_col=0, parse_dates=True)\n",
        "df.head()"
      ],
      "metadata": {
        "colab": {
          "base_uri": "https://localhost:8080/",
          "height": 238
        },
        "id": "fRL2AJUQDBqV",
        "outputId": "17c8268d-45d1-487b-a77e-4a4307aae133"
      },
      "execution_count": null,
      "outputs": [
        {
          "output_type": "execute_result",
          "data": {
            "text/plain": [
              "            ENPLANE\n",
              "DATE               \n",
              "2000-01-01  46492.0\n",
              "2000-02-01  48526.0\n",
              "2000-03-01  58764.0\n",
              "2000-04-01  56032.0\n",
              "2000-05-01  58201.0"
            ],
            "text/html": [
              "\n",
              "  <div id=\"df-a4a11732-2744-4a8b-90cc-140c32cc475f\" class=\"colab-df-container\">\n",
              "    <div>\n",
              "<style scoped>\n",
              "    .dataframe tbody tr th:only-of-type {\n",
              "        vertical-align: middle;\n",
              "    }\n",
              "\n",
              "    .dataframe tbody tr th {\n",
              "        vertical-align: top;\n",
              "    }\n",
              "\n",
              "    .dataframe thead th {\n",
              "        text-align: right;\n",
              "    }\n",
              "</style>\n",
              "<table border=\"1\" class=\"dataframe\">\n",
              "  <thead>\n",
              "    <tr style=\"text-align: right;\">\n",
              "      <th></th>\n",
              "      <th>ENPLANE</th>\n",
              "    </tr>\n",
              "    <tr>\n",
              "      <th>DATE</th>\n",
              "      <th></th>\n",
              "    </tr>\n",
              "  </thead>\n",
              "  <tbody>\n",
              "    <tr>\n",
              "      <th>2000-01-01</th>\n",
              "      <td>46492.0</td>\n",
              "    </tr>\n",
              "    <tr>\n",
              "      <th>2000-02-01</th>\n",
              "      <td>48526.0</td>\n",
              "    </tr>\n",
              "    <tr>\n",
              "      <th>2000-03-01</th>\n",
              "      <td>58764.0</td>\n",
              "    </tr>\n",
              "    <tr>\n",
              "      <th>2000-04-01</th>\n",
              "      <td>56032.0</td>\n",
              "    </tr>\n",
              "    <tr>\n",
              "      <th>2000-05-01</th>\n",
              "      <td>58201.0</td>\n",
              "    </tr>\n",
              "  </tbody>\n",
              "</table>\n",
              "</div>\n",
              "    <div class=\"colab-df-buttons\">\n",
              "\n",
              "  <div class=\"colab-df-container\">\n",
              "    <button class=\"colab-df-convert\" onclick=\"convertToInteractive('df-a4a11732-2744-4a8b-90cc-140c32cc475f')\"\n",
              "            title=\"Convert this dataframe to an interactive table.\"\n",
              "            style=\"display:none;\">\n",
              "\n",
              "  <svg xmlns=\"http://www.w3.org/2000/svg\" height=\"24px\" viewBox=\"0 -960 960 960\">\n",
              "    <path d=\"M120-120v-720h720v720H120Zm60-500h600v-160H180v160Zm220 220h160v-160H400v160Zm0 220h160v-160H400v160ZM180-400h160v-160H180v160Zm440 0h160v-160H620v160ZM180-180h160v-160H180v160Zm440 0h160v-160H620v160Z\"/>\n",
              "  </svg>\n",
              "    </button>\n",
              "\n",
              "  <style>\n",
              "    .colab-df-container {\n",
              "      display:flex;\n",
              "      gap: 12px;\n",
              "    }\n",
              "\n",
              "    .colab-df-convert {\n",
              "      background-color: #E8F0FE;\n",
              "      border: none;\n",
              "      border-radius: 50%;\n",
              "      cursor: pointer;\n",
              "      display: none;\n",
              "      fill: #1967D2;\n",
              "      height: 32px;\n",
              "      padding: 0 0 0 0;\n",
              "      width: 32px;\n",
              "    }\n",
              "\n",
              "    .colab-df-convert:hover {\n",
              "      background-color: #E2EBFA;\n",
              "      box-shadow: 0px 1px 2px rgba(60, 64, 67, 0.3), 0px 1px 3px 1px rgba(60, 64, 67, 0.15);\n",
              "      fill: #174EA6;\n",
              "    }\n",
              "\n",
              "    .colab-df-buttons div {\n",
              "      margin-bottom: 4px;\n",
              "    }\n",
              "\n",
              "    [theme=dark] .colab-df-convert {\n",
              "      background-color: #3B4455;\n",
              "      fill: #D2E3FC;\n",
              "    }\n",
              "\n",
              "    [theme=dark] .colab-df-convert:hover {\n",
              "      background-color: #434B5C;\n",
              "      box-shadow: 0px 1px 3px 1px rgba(0, 0, 0, 0.15);\n",
              "      filter: drop-shadow(0px 1px 2px rgba(0, 0, 0, 0.3));\n",
              "      fill: #FFFFFF;\n",
              "    }\n",
              "  </style>\n",
              "\n",
              "    <script>\n",
              "      const buttonEl =\n",
              "        document.querySelector('#df-a4a11732-2744-4a8b-90cc-140c32cc475f button.colab-df-convert');\n",
              "      buttonEl.style.display =\n",
              "        google.colab.kernel.accessAllowed ? 'block' : 'none';\n",
              "\n",
              "      async function convertToInteractive(key) {\n",
              "        const element = document.querySelector('#df-a4a11732-2744-4a8b-90cc-140c32cc475f');\n",
              "        const dataTable =\n",
              "          await google.colab.kernel.invokeFunction('convertToInteractive',\n",
              "                                                    [key], {});\n",
              "        if (!dataTable) return;\n",
              "\n",
              "        const docLinkHtml = 'Like what you see? Visit the ' +\n",
              "          '<a target=\"_blank\" href=https://colab.research.google.com/notebooks/data_table.ipynb>data table notebook</a>'\n",
              "          + ' to learn more about interactive tables.';\n",
              "        element.innerHTML = '';\n",
              "        dataTable['output_type'] = 'display_data';\n",
              "        await google.colab.output.renderOutput(dataTable, element);\n",
              "        const docLink = document.createElement('div');\n",
              "        docLink.innerHTML = docLinkHtml;\n",
              "        element.appendChild(docLink);\n",
              "      }\n",
              "    </script>\n",
              "  </div>\n",
              "\n",
              "\n",
              "<div id=\"df-6451f6b2-5cfa-49fd-b840-f5a0d6add6a4\">\n",
              "  <button class=\"colab-df-quickchart\" onclick=\"quickchart('df-6451f6b2-5cfa-49fd-b840-f5a0d6add6a4')\"\n",
              "            title=\"Suggest charts\"\n",
              "            style=\"display:none;\">\n",
              "\n",
              "<svg xmlns=\"http://www.w3.org/2000/svg\" height=\"24px\"viewBox=\"0 0 24 24\"\n",
              "     width=\"24px\">\n",
              "    <g>\n",
              "        <path d=\"M19 3H5c-1.1 0-2 .9-2 2v14c0 1.1.9 2 2 2h14c1.1 0 2-.9 2-2V5c0-1.1-.9-2-2-2zM9 17H7v-7h2v7zm4 0h-2V7h2v10zm4 0h-2v-4h2v4z\"/>\n",
              "    </g>\n",
              "</svg>\n",
              "  </button>\n",
              "\n",
              "<style>\n",
              "  .colab-df-quickchart {\n",
              "      --bg-color: #E8F0FE;\n",
              "      --fill-color: #1967D2;\n",
              "      --hover-bg-color: #E2EBFA;\n",
              "      --hover-fill-color: #174EA6;\n",
              "      --disabled-fill-color: #AAA;\n",
              "      --disabled-bg-color: #DDD;\n",
              "  }\n",
              "\n",
              "  [theme=dark] .colab-df-quickchart {\n",
              "      --bg-color: #3B4455;\n",
              "      --fill-color: #D2E3FC;\n",
              "      --hover-bg-color: #434B5C;\n",
              "      --hover-fill-color: #FFFFFF;\n",
              "      --disabled-bg-color: #3B4455;\n",
              "      --disabled-fill-color: #666;\n",
              "  }\n",
              "\n",
              "  .colab-df-quickchart {\n",
              "    background-color: var(--bg-color);\n",
              "    border: none;\n",
              "    border-radius: 50%;\n",
              "    cursor: pointer;\n",
              "    display: none;\n",
              "    fill: var(--fill-color);\n",
              "    height: 32px;\n",
              "    padding: 0;\n",
              "    width: 32px;\n",
              "  }\n",
              "\n",
              "  .colab-df-quickchart:hover {\n",
              "    background-color: var(--hover-bg-color);\n",
              "    box-shadow: 0 1px 2px rgba(60, 64, 67, 0.3), 0 1px 3px 1px rgba(60, 64, 67, 0.15);\n",
              "    fill: var(--button-hover-fill-color);\n",
              "  }\n",
              "\n",
              "  .colab-df-quickchart-complete:disabled,\n",
              "  .colab-df-quickchart-complete:disabled:hover {\n",
              "    background-color: var(--disabled-bg-color);\n",
              "    fill: var(--disabled-fill-color);\n",
              "    box-shadow: none;\n",
              "  }\n",
              "\n",
              "  .colab-df-spinner {\n",
              "    border: 2px solid var(--fill-color);\n",
              "    border-color: transparent;\n",
              "    border-bottom-color: var(--fill-color);\n",
              "    animation:\n",
              "      spin 1s steps(1) infinite;\n",
              "  }\n",
              "\n",
              "  @keyframes spin {\n",
              "    0% {\n",
              "      border-color: transparent;\n",
              "      border-bottom-color: var(--fill-color);\n",
              "      border-left-color: var(--fill-color);\n",
              "    }\n",
              "    20% {\n",
              "      border-color: transparent;\n",
              "      border-left-color: var(--fill-color);\n",
              "      border-top-color: var(--fill-color);\n",
              "    }\n",
              "    30% {\n",
              "      border-color: transparent;\n",
              "      border-left-color: var(--fill-color);\n",
              "      border-top-color: var(--fill-color);\n",
              "      border-right-color: var(--fill-color);\n",
              "    }\n",
              "    40% {\n",
              "      border-color: transparent;\n",
              "      border-right-color: var(--fill-color);\n",
              "      border-top-color: var(--fill-color);\n",
              "    }\n",
              "    60% {\n",
              "      border-color: transparent;\n",
              "      border-right-color: var(--fill-color);\n",
              "    }\n",
              "    80% {\n",
              "      border-color: transparent;\n",
              "      border-right-color: var(--fill-color);\n",
              "      border-bottom-color: var(--fill-color);\n",
              "    }\n",
              "    90% {\n",
              "      border-color: transparent;\n",
              "      border-bottom-color: var(--fill-color);\n",
              "    }\n",
              "  }\n",
              "</style>\n",
              "\n",
              "  <script>\n",
              "    async function quickchart(key) {\n",
              "      const quickchartButtonEl =\n",
              "        document.querySelector('#' + key + ' button');\n",
              "      quickchartButtonEl.disabled = true;  // To prevent multiple clicks.\n",
              "      quickchartButtonEl.classList.add('colab-df-spinner');\n",
              "      try {\n",
              "        const charts = await google.colab.kernel.invokeFunction(\n",
              "            'suggestCharts', [key], {});\n",
              "      } catch (error) {\n",
              "        console.error('Error during call to suggestCharts:', error);\n",
              "      }\n",
              "      quickchartButtonEl.classList.remove('colab-df-spinner');\n",
              "      quickchartButtonEl.classList.add('colab-df-quickchart-complete');\n",
              "    }\n",
              "    (() => {\n",
              "      let quickchartButtonEl =\n",
              "        document.querySelector('#df-6451f6b2-5cfa-49fd-b840-f5a0d6add6a4 button');\n",
              "      quickchartButtonEl.style.display =\n",
              "        google.colab.kernel.accessAllowed ? 'block' : 'none';\n",
              "    })();\n",
              "  </script>\n",
              "</div>\n",
              "\n",
              "    </div>\n",
              "  </div>\n"
            ],
            "application/vnd.google.colaboratory.intrinsic+json": {
              "type": "dataframe",
              "variable_name": "df",
              "summary": "{\n  \"name\": \"df\",\n  \"rows\": 290,\n  \"fields\": [\n    {\n      \"column\": \"DATE\",\n      \"properties\": {\n        \"dtype\": \"date\",\n        \"min\": \"2000-01-01 00:00:00\",\n        \"max\": \"2024-02-01 00:00:00\",\n        \"num_unique_values\": 290,\n        \"samples\": [\n          \"2007-01-01 00:00:00\",\n          \"2021-07-01 00:00:00\",\n          \"2003-10-01 00:00:00\"\n        ],\n        \"semantic_type\": \"\",\n        \"description\": \"\"\n      }\n    },\n    {\n      \"column\": \"ENPLANE\",\n      \"properties\": {\n        \"dtype\": \"number\",\n        \"std\": 12204.907957500376,\n        \"min\": 3014.0,\n        \"max\": 87821.0,\n        \"num_unique_values\": 290,\n        \"samples\": [\n          57138.0,\n          73774.0,\n          55147.0\n        ],\n        \"semantic_type\": \"\",\n        \"description\": \"\"\n      }\n    }\n  ]\n}"
            }
          },
          "metadata": {},
          "execution_count": 3
        }
      ]
    },
    {
      "cell_type": "code",
      "source": [
        "# filter df only by 2010 to 2020\n",
        "df = df['2010-01-01':'2019-12-31']"
      ],
      "metadata": {
        "id": "a6tJ59L4DtH1"
      },
      "execution_count": null,
      "outputs": []
    },
    {
      "cell_type": "code",
      "source": [
        "end_train = '2018-12-31 23:59:59'\n",
        "print(\n",
        "    f\"Train dates : {df.index.min()} --- {df.loc[:end_train].index.max()}  \"\n",
        "    f\"(n={len(df.loc[:end_train])})\"\n",
        ")\n",
        "print(\n",
        "    f\"Test dates  : {df.loc[end_train:].index.min()} --- {df.loc[:].index.max()}  \"\n",
        "    f\"(n={len(df.loc[end_train:])})\"\n",
        ")\n",
        "data_train = df.loc[:end_train]\n",
        "data_test  = df.loc[end_train:]\n",
        "\n",
        "# Plot\n",
        "# ======================================================================================\n",
        "fig, ax=plt.subplots(figsize=(7, 3))\n",
        "data_train.plot(ax=ax, label='train')\n",
        "data_test.plot(ax=ax, label='test')\n",
        "ax.set_title('Monthly US Airlines Passengers')\n",
        "ax.set_ylabel('Passengers')\n",
        "ax.legend();"
      ],
      "metadata": {
        "colab": {
          "base_uri": "https://localhost:8080/",
          "height": 369
        },
        "id": "vKYoPWM2D7vx",
        "outputId": "d87b66b9-0c0e-496e-edf5-310c3cb37e46"
      },
      "execution_count": null,
      "outputs": [
        {
          "output_type": "stream",
          "name": "stdout",
          "text": [
            "Train dates : 2010-01-01 00:00:00 --- 2018-12-01 00:00:00  (n=108)\n",
            "Test dates  : 2019-01-01 00:00:00 --- 2019-12-01 00:00:00  (n=12)\n"
          ]
        },
        {
          "output_type": "display_data",
          "data": {
            "text/plain": [
              "<Figure size 700x300 with 1 Axes>"
            ],
            "image/png": "[encoded data removed]"
          },
          "metadata": {}
        }
      ]
    },
    {
      "cell_type": "markdown",
      "source": [
        "Your goal is to develop a time series forecasting model for 2019 using 2010-2018 data as training."
      ],
      "metadata": {
        "id": "MaDUgfuSvrfW"
      }
    },
    {
      "cell_type": "markdown",
      "source": [
        "# Problem 1: Visualizing Stationarity (No ChatGPT/LLM)\n",
        "\n",
        "Use [this code](https://cienciadedatos.net/documentos/py51-arima-sarimax-models-python.html#Stationarity) to plot the train (2010-2018) data and the first/second order differences.\n",
        "\n",
        "Use the code provided - **do not use ChatGPT** as it may provide alternative libraries code.\n",
        "\n",
        "**Question**: What order (no difference, 1st order, or 2nd order) should you use to make the time series stationary?\n",
        "\n",
        "Write 1-2 sentences justifying your answer.\n",
        "\n",
        "Remember - you want to select the order that looks like it doesn't have any discernable patterns.\n",
        "\n",
        "You do not need to run any statistical tests, but you can if you want further evidence."
      ],
      "metadata": {
        "id": "mxSpJH_nFcF2"
      }
    },
    {
      "cell_type": "code",
      "source": [
        "# add code here"
      ],
      "metadata": {
        "id": "zQLe28GTEqhh"
      },
      "execution_count": null,
      "outputs": []
    },
    {
      "cell_type": "markdown",
      "source": [
        "## Problem 2: ARIMA(1,d,1) (No ChatGPT/LLM)\n",
        "\n",
        "Set up a ARIMA(1,d,1), where d is the order you selected in Problem 1.\n",
        "\n",
        "- Use [`skforecast`](https://cienciadedatos.net/documentos/py51-arima-sarimax-models-python.html#Skforecast) (i.e., `Sarimax`) for ARIMA -- again, don't use ChatGPT as it may use a different library.\n",
        "\n",
        "- Do not add any seasonal differences at this time (that is, do not provide values to `seasonal_order`)\n",
        "\n",
        "Fit and run a summary stats on this model."
      ],
      "metadata": {
        "id": "3mail7o1tBWZ"
      }
    },
    {
      "cell_type": "code",
      "source": [
        "# add code here"
      ],
      "metadata": {
        "id": "P4TQurbRGyZG"
      },
      "execution_count": null,
      "outputs": []
    },
    {
      "cell_type": "markdown",
      "source": [
        "## Problem 3: Interpretation (You may use ChatGPT/LLM)\n",
        "\n",
        "Now interpret the results of your model from Problem 2.\n",
        "\n",
        "For this, you **may** use ChatGPT or another LLM but you **must** provide your Share Link of your chat.\n",
        "\n",
        "Assess your model's results - does it seem like your model fits the data well?"
      ],
      "metadata": {
        "id": "PAatfZjKvF7a"
      }
    },
    {
      "cell_type": "markdown",
      "source": [
        "## Problem 4: ACF and PACF Plots (No ChatGPT/LLM)\n",
        "\n",
        "Again, use [this code](https://cienciadedatos.net/documentos/py51-arima-sarimax-models-python.html#Autocorrelation-Analysis) and run ACF and PACF plots on the 0 (no difference), 1st, and 2nd order of your data. **Use the code in the plot** and don't use ChatGPT or else you may get different results.\n",
        "\n",
        "Given your ACF and PACF plots for the order you choose in Problem 1: do you notice any seasonality patterns?"
      ],
      "metadata": {
        "id": "TsiKR5fiHzYr"
      }
    },
    {
      "cell_type": "code",
      "source": [
        "# add in code for ACF"
      ],
      "metadata": {
        "id": "SQjvBU_2HWTf"
      },
      "execution_count": null,
      "outputs": []
    },
    {
      "cell_type": "code",
      "source": [
        "# add in code for PACF"
      ],
      "metadata": {
        "id": "V3ojH_fqH6hC"
      },
      "execution_count": null,
      "outputs": []
    },
    {
      "cell_type": "markdown",
      "source": [
        "## Problem 5: Add in Seasonality Order (No ChatGPT/LLM)\n",
        "\n",
        "Based on your answer for Problem 3, build a 2nd model and add in a `seasonal_order(1, 1, 1, s)` where `s` is the seasonal periodicity you decided from Problem 3."
      ],
      "metadata": {
        "id": "dHqZZAFwIkzX"
      }
    },
    {
      "cell_type": "code",
      "source": [
        "# add in code"
      ],
      "metadata": {
        "id": "DRvhsbDXImPG"
      },
      "execution_count": null,
      "outputs": []
    },
    {
      "cell_type": "markdown",
      "source": [
        "## Problem 6: Use ChatGPT to compare and interpret both plots\n",
        "\n",
        "- Create a prompt to compare the results of both Model 1 and Model 2.\n",
        "\n",
        "- Provide the ChatGPT shared link.\n",
        "\n",
        "- Based on the model statistics, which model fits the training data better?\n",
        "\n",
        "- What factors should you also consider when making model selection?"
      ],
      "metadata": {
        "id": "Md_nHdl0zjXi"
      }
    },
    {
      "cell_type": "markdown",
      "source": [
        "## Problem 7: Forecasting (No ChatGPT/LLM)\n",
        "\n",
        "Now use the code below to use your models to forecast for 2019.\n",
        "\n",
        "The code below assumes your models have the following:\n",
        "1. Model 1 is named `arima`\n",
        "2. Model 2 (with seasonality) is named `arima2`\n",
        "\n",
        "Modify these accordingly to predict your data."
      ],
      "metadata": {
        "id": "JTmc24TFRMqF"
      }
    },
    {
      "cell_type": "code",
      "source": [
        "predictions_skforecast = arima.predict(steps=len(data_test))\n",
        "predictions_skforecast.columns = ['skforecast']\n",
        "\n",
        "fig, ax = plt.subplots(figsize=(7, 3))\n",
        "data_train.plot(ax=ax, label='train')\n",
        "data_test.plot(ax=ax, label='test')\n",
        "predictions_skforecast.plot(ax=ax, label='skforecast')\n",
        "ax.set_title('Predictions with ARIMA models')\n",
        "ax.legend();"
      ],
      "metadata": {
        "id": "4BvyQEs9RNsR"
      },
      "execution_count": null,
      "outputs": []
    },
    {
      "cell_type": "code",
      "source": [
        "predictions_skforecast2 = arima2.predict(steps=len(data_test))\n",
        "predictions_skforecast2.columns = ['skforecast']\n",
        "fig, ax = plt.subplots(figsize=(7, 3))\n",
        "data_train.plot(ax=ax, label='train')\n",
        "data_test.plot(ax=ax, label='test')\n",
        "predictions_skforecast2.plot(ax=ax, label='skforecast')\n",
        "ax.set_title('Predictions with ARIMA models')\n",
        "ax.legend();"
      ],
      "metadata": {
        "id": "0hYmcVgIRQHt"
      },
      "execution_count": null,
      "outputs": []
    },
    {
      "cell_type": "markdown",
      "source": [
        "Answer these questions, each in 1-2 sentences:\n",
        "\n",
        "- What is the difference between the two models forecast?\n",
        "\n",
        "- Visually, which of the two models seem to fit your data out-of-sample (test/2019) data better?\n",
        "\n",
        "- What are problems you still visualize with your selected model?"
      ],
      "metadata": {
        "id": "kFCn3JmXRUyJ"
      }
    }
  ]
}