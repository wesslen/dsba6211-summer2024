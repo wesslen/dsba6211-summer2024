{
  "nbformat": 4,
  "nbformat_minor": 0,
  "metadata": {
    "colab": {
      "provenance": [],
      "authorship_tag": "ABX9TyNmQqc98VriovP3sq3AYQOy",
      "include_colab_link": true
    },
    "kernelspec": {
      "name": "python3",
      "display_name": "Python 3"
    },
    "language_info": {
      "name": "python"
    }
  },
  "cells": [
    {
      "cell_type": "markdown",
      "metadata": {
        "id": "view-in-github",
        "colab_type": "text"
      },
      "source": [
        "<a href=\"https://colab.research.google.com/github/wesslen/dsba6211-summer2024/blob/main/notebooks/dsba6211_summer2024_lab8.ipynb\" target=\"_parent\"><img src=\"https://colab.research.google.com/assets/colab-badge.svg\" alt=\"Open In Colab\"/></a>"
      ]
    },
    {
      "cell_type": "markdown",
      "source": [
        "# Dependencies"
      ],
      "metadata": {
        "id": "_U3tOKKNOErU"
      }
    },
    {
      "cell_type": "code",
      "execution_count": null,
      "metadata": {
        "id": "t5jk-j_2N6Xj"
      },
      "outputs": [],
      "source": [
        "%%capture\n",
        "!pip install skforecast\n",
        "!pip install pmdarima"
      ]
    },
    {
      "cell_type": "code",
      "source": [
        "import numpy as np\n",
        "import pandas as pd\n",
        "import matplotlib.pyplot as plt\n",
        "\n",
        "# pmdarima\n",
        "from pmdarima import ARIMA\n",
        "from pmdarima import auto_arima\n",
        "# skforecast\n",
        "from skforecast.Sarimax import Sarimax\n",
        "from skforecast.ForecasterSarimax import ForecasterSarimax\n",
        "from skforecast.model_selection_sarimax import backtesting_sarimax\n",
        "from skforecast.model_selection_sarimax import grid_search_sarimax\n",
        "from skforecast.datasets import fetch_dataset\n",
        "# statsmodels\n",
        "from statsmodels.tsa.statespace.sarimax import SARIMAX\n",
        "from statsmodels.tsa.stattools import adfuller\n",
        "from statsmodels.tsa.stattools import kpss\n",
        "from statsmodels.graphics.tsaplots import plot_acf, plot_pacf\n",
        "from statsmodels.tsa.seasonal import seasonal_decompose\n",
        "\n",
        "from sklearn.metrics import mean_absolute_error\n",
        "import warnings\n",
        "warnings.filterwarnings('ignore')\n",
        "warnings.filterwarnings(\"ignore\", category=DeprecationWarning)"
      ],
      "metadata": {
        "id": "cvkXKIswOG-w"
      },
      "execution_count": null,
      "outputs": []
    },
    {
      "cell_type": "markdown",
      "source": [
        "# Data"
      ],
      "metadata": {
        "id": "HDS3gQK0OMh9"
      }
    },
    {
      "cell_type": "code",
      "source": [
        "url = \"https://fred.stlouisfed.org/graph/fredgraph.csv?bgcolor=%23e1e9f0&chart_type=line&drp=0&fo=open%20sans&graph_bgcolor=%23ffffff&height=450&mode=fred&recession_bars=on&txtcolor=%23444444&ts=12&tts=12&width=1138&nt=0&thu=0&trc=0&show_legend=yes&show_axis_titles=yes&show_tooltip=yes&id=ENPLANE&scale=left&cosd=2000-01-01&coed=2024-02-01&line_color=%234572a7&link_values=false&line_style=solid&mark_type=none&mw=3&lw=2&ost=-99999&oet=99999&mma=0&fml=a&fq=Monthly&fam=avg&fgst=lin&fgsnd=2020-02-01&line_index=1&transformation=lin&vintage_date=2024-06-27&revision_date=2024-06-27&nd=2000-01-01\"\n",
        "\n",
        "df = pd.read_csv(url, index_col=0, parse_dates=True)\n",
        "df.head()"
      ],
      "metadata": {
        "colab": {
          "base_uri": "https://localhost:8080/",
          "height": 238
        },
        "id": "E5NbNGURONZM",
        "outputId": "3e82011b-fbdf-4dfe-9e73-dd63d987c4c5"
      },
      "execution_count": null,
      "outputs": [
        {
          "output_type": "execute_result",
          "data": {
            "text/plain": [
              "            ENPLANE\n",
              "DATE               \n",
              "2000-01-01  46492.0\n",
              "2000-02-01  48526.0\n",
              "2000-03-01  58764.0\n",
              "2000-04-01  56032.0\n",
              "2000-05-01  58201.0"
            ],
            "text/html": [
              "\n",
              "  <div id=\"df-5d15e91e-0526-4a98-bb7e-7aa9e992c1b5\" class=\"colab-df-container\">\n",
              "    <div>\n",
              "<style scoped>\n",
              "    .dataframe tbody tr th:only-of-type {\n",
              "        vertical-align: middle;\n",
              "    }\n",
              "\n",
              "    .dataframe tbody tr th {\n",
              "        vertical-align: top;\n",
              "    }\n",
              "\n",
              "    .dataframe thead th {\n",
              "        text-align: right;\n",
              "    }\n",
              "</style>\n",
              "<table border=\"1\" class=\"dataframe\">\n",
              "  <thead>\n",
              "    <tr style=\"text-align: right;\">\n",
              "      <th></th>\n",
              "      <th>ENPLANE</th>\n",
              "    </tr>\n",
              "    <tr>\n",
              "      <th>DATE</th>\n",
              "      <th></th>\n",
              "    </tr>\n",
              "  </thead>\n",
              "  <tbody>\n",
              "    <tr>\n",
              "      <th>2000-01-01</th>\n",
              "      <td>46492.0</td>\n",
              "    </tr>\n",
              "    <tr>\n",
              "      <th>2000-02-01</th>\n",
              "      <td>48526.0</td>\n",
              "    </tr>\n",
              "    <tr>\n",
              "      <th>2000-03-01</th>\n",
              "      <td>58764.0</td>\n",
              "    </tr>\n",
              "    <tr>\n",
              "      <th>2000-04-01</th>\n",
              "      <td>56032.0</td>\n",
              "    </tr>\n",
              "    <tr>\n",
              "      <th>2000-05-01</th>\n",
              "      <td>58201.0</td>\n",
              "    </tr>\n",
              "  </tbody>\n",
              "</table>\n",
              "</div>\n",
              "    <div class=\"colab-df-buttons\">\n",
              "\n",
              "  <div class=\"colab-df-container\">\n",
              "    <button class=\"colab-df-convert\" onclick=\"convertToInteractive('df-5d15e91e-0526-4a98-bb7e-7aa9e992c1b5')\"\n",
              "            title=\"Convert this dataframe to an interactive table.\"\n",
              "            style=\"display:none;\">\n",
              "\n",
              "  <svg xmlns=\"http://www.w3.org/2000/svg\" height=\"24px\" viewBox=\"0 -960 960 960\">\n",
              "    <path d=\"M120-120v-720h720v720H120Zm60-500h600v-160H180v160Zm220 220h160v-160H400v160Zm0 220h160v-160H400v160ZM180-400h160v-160H180v160Zm440 0h160v-160H620v160ZM180-180h160v-160H180v160Zm440 0h160v-160H620v160Z\"/>\n",
              "  </svg>\n",
              "    </button>\n",
              "\n",
              "  <style>\n",
              "    .colab-df-container {\n",
              "      display:flex;\n",
              "      gap: 12px;\n",
              "    }\n",
              "\n",
              "    .colab-df-convert {\n",
              "      background-color: #E8F0FE;\n",
              "      border: none;\n",
              "      border-radius: 50%;\n",
              "      cursor: pointer;\n",
              "      display: none;\n",
              "      fill: #1967D2;\n",
              "      height: 32px;\n",
              "      padding: 0 0 0 0;\n",
              "      width: 32px;\n",
              "    }\n",
              "\n",
              "    .colab-df-convert:hover {\n",
              "      background-color: #E2EBFA;\n",
              "      box-shadow: 0px 1px 2px rgba(60, 64, 67, 0.3), 0px 1px 3px 1px rgba(60, 64, 67, 0.15);\n",
              "      fill: #174EA6;\n",
              "    }\n",
              "\n",
              "    .colab-df-buttons div {\n",
              "      margin-bottom: 4px;\n",
              "    }\n",
              "\n",
              "    [theme=dark] .colab-df-convert {\n",
              "      background-color: #3B4455;\n",
              "      fill: #D2E3FC;\n",
              "    }\n",
              "\n",
              "    [theme=dark] .colab-df-convert:hover {\n",
              "      background-color: #434B5C;\n",
              "      box-shadow: 0px 1px 3px 1px rgba(0, 0, 0, 0.15);\n",
              "      filter: drop-shadow(0px 1px 2px rgba(0, 0, 0, 0.3));\n",
              "      fill: #FFFFFF;\n",
              "    }\n",
              "  </style>\n",
              "\n",
              "    <script>\n",
              "      const buttonEl =\n",
              "        document.querySelector('#df-5d15e91e-0526-4a98-bb7e-7aa9e992c1b5 button.colab-df-convert');\n",
              "      buttonEl.style.display =\n",
              "        google.colab.kernel.accessAllowed ? 'block' : 'none';\n",
              "\n",
              "      async function convertToInteractive(key) {\n",
              "        const element = document.querySelector('#df-5d15e91e-0526-4a98-bb7e-7aa9e992c1b5');\n",
              "        const dataTable =\n",
              "          await google.colab.kernel.invokeFunction('convertToInteractive',\n",
              "                                                    [key], {});\n",
              "        if (!dataTable) return;\n",
              "\n",
              "        const docLinkHtml = 'Like what you see? Visit the ' +\n",
              "          '<a target=\"_blank\" href=https://colab.research.google.com/notebooks/data_table.ipynb>data table notebook</a>'\n",
              "          + ' to learn more about interactive tables.';\n",
              "        element.innerHTML = '';\n",
              "        dataTable['output_type'] = 'display_data';\n",
              "        await google.colab.output.renderOutput(dataTable, element);\n",
              "        const docLink = document.createElement('div');\n",
              "        docLink.innerHTML = docLinkHtml;\n",
              "        element.appendChild(docLink);\n",
              "      }\n",
              "    </script>\n",
              "  </div>\n",
              "\n",
              "\n",
              "<div id=\"df-c8765014-c9ab-43d0-936b-7c16427cc0dc\">\n",
              "  <button class=\"colab-df-quickchart\" onclick=\"quickchart('df-c8765014-c9ab-43d0-936b-7c16427cc0dc')\"\n",
              "            title=\"Suggest charts\"\n",
              "            style=\"display:none;\">\n",
              "\n",
              "<svg xmlns=\"http://www.w3.org/2000/svg\" height=\"24px\"viewBox=\"0 0 24 24\"\n",
              "     width=\"24px\">\n",
              "    <g>\n",
              "        <path d=\"M19 3H5c-1.1 0-2 .9-2 2v14c0 1.1.9 2 2 2h14c1.1 0 2-.9 2-2V5c0-1.1-.9-2-2-2zM9 17H7v-7h2v7zm4 0h-2V7h2v10zm4 0h-2v-4h2v4z\"/>\n",
              "    </g>\n",
              "</svg>\n",
              "  </button>\n",
              "\n",
              "<style>\n",
              "  .colab-df-quickchart {\n",
              "      --bg-color: #E8F0FE;\n",
              "      --fill-color: #1967D2;\n",
              "      --hover-bg-color: #E2EBFA;\n",
              "      --hover-fill-color: #174EA6;\n",
              "      --disabled-fill-color: #AAA;\n",
              "      --disabled-bg-color: #DDD;\n",
              "  }\n",
              "\n",
              "  [theme=dark] .colab-df-quickchart {\n",
              "      --bg-color: #3B4455;\n",
              "      --fill-color: #D2E3FC;\n",
              "      --hover-bg-color: #434B5C;\n",
              "      --hover-fill-color: #FFFFFF;\n",
              "      --disabled-bg-color: #3B4455;\n",
              "      --disabled-fill-color: #666;\n",
              "  }\n",
              "\n",
              "  .colab-df-quickchart {\n",
              "    background-color: var(--bg-color);\n",
              "    border: none;\n",
              "    border-radius: 50%;\n",
              "    cursor: pointer;\n",
              "    display: none;\n",
              "    fill: var(--fill-color);\n",
              "    height: 32px;\n",
              "    padding: 0;\n",
              "    width: 32px;\n",
              "  }\n",
              "\n",
              "  .colab-df-quickchart:hover {\n",
              "    background-color: var(--hover-bg-color);\n",
              "    box-shadow: 0 1px 2px rgba(60, 64, 67, 0.3), 0 1px 3px 1px rgba(60, 64, 67, 0.15);\n",
              "    fill: var(--button-hover-fill-color);\n",
              "  }\n",
              "\n",
              "  .colab-df-quickchart-complete:disabled,\n",
              "  .colab-df-quickchart-complete:disabled:hover {\n",
              "    background-color: var(--disabled-bg-color);\n",
              "    fill: var(--disabled-fill-color);\n",
              "    box-shadow: none;\n",
              "  }\n",
              "\n",
              "  .colab-df-spinner {\n",
              "    border: 2px solid var(--fill-color);\n",
              "    border-color: transparent;\n",
              "    border-bottom-color: var(--fill-color);\n",
              "    animation:\n",
              "      spin 1s steps(1) infinite;\n",
              "  }\n",
              "\n",
              "  @keyframes spin {\n",
              "    0% {\n",
              "      border-color: transparent;\n",
              "      border-bottom-color: var(--fill-color);\n",
              "      border-left-color: var(--fill-color);\n",
              "    }\n",
              "    20% {\n",
              "      border-color: transparent;\n",
              "      border-left-color: var(--fill-color);\n",
              "      border-top-color: var(--fill-color);\n",
              "    }\n",
              "    30% {\n",
              "      border-color: transparent;\n",
              "      border-left-color: var(--fill-color);\n",
              "      border-top-color: var(--fill-color);\n",
              "      border-right-color: var(--fill-color);\n",
              "    }\n",
              "    40% {\n",
              "      border-color: transparent;\n",
              "      border-right-color: var(--fill-color);\n",
              "      border-top-color: var(--fill-color);\n",
              "    }\n",
              "    60% {\n",
              "      border-color: transparent;\n",
              "      border-right-color: var(--fill-color);\n",
              "    }\n",
              "    80% {\n",
              "      border-color: transparent;\n",
              "      border-right-color: var(--fill-color);\n",
              "      border-bottom-color: var(--fill-color);\n",
              "    }\n",
              "    90% {\n",
              "      border-color: transparent;\n",
              "      border-bottom-color: var(--fill-color);\n",
              "    }\n",
              "  }\n",
              "</style>\n",
              "\n",
              "  <script>\n",
              "    async function quickchart(key) {\n",
              "      const quickchartButtonEl =\n",
              "        document.querySelector('#' + key + ' button');\n",
              "      quickchartButtonEl.disabled = true;  // To prevent multiple clicks.\n",
              "      quickchartButtonEl.classList.add('colab-df-spinner');\n",
              "      try {\n",
              "        const charts = await google.colab.kernel.invokeFunction(\n",
              "            'suggestCharts', [key], {});\n",
              "      } catch (error) {\n",
              "        console.error('Error during call to suggestCharts:', error);\n",
              "      }\n",
              "      quickchartButtonEl.classList.remove('colab-df-spinner');\n",
              "      quickchartButtonEl.classList.add('colab-df-quickchart-complete');\n",
              "    }\n",
              "    (() => {\n",
              "      let quickchartButtonEl =\n",
              "        document.querySelector('#df-c8765014-c9ab-43d0-936b-7c16427cc0dc button');\n",
              "      quickchartButtonEl.style.display =\n",
              "        google.colab.kernel.accessAllowed ? 'block' : 'none';\n",
              "    })();\n",
              "  </script>\n",
              "</div>\n",
              "\n",
              "    </div>\n",
              "  </div>\n"
            ],
            "application/vnd.google.colaboratory.intrinsic+json": {
              "type": "dataframe",
              "variable_name": "df",
              "summary": "{\n  \"name\": \"df\",\n  \"rows\": 290,\n  \"fields\": [\n    {\n      \"column\": \"DATE\",\n      \"properties\": {\n        \"dtype\": \"date\",\n        \"min\": \"2000-01-01 00:00:00\",\n        \"max\": \"2024-02-01 00:00:00\",\n        \"num_unique_values\": 290,\n        \"samples\": [\n          \"2007-01-01 00:00:00\",\n          \"2021-07-01 00:00:00\",\n          \"2003-10-01 00:00:00\"\n        ],\n        \"semantic_type\": \"\",\n        \"description\": \"\"\n      }\n    },\n    {\n      \"column\": \"ENPLANE\",\n      \"properties\": {\n        \"dtype\": \"number\",\n        \"std\": 12204.907957500376,\n        \"min\": 3014.0,\n        \"max\": 87821.0,\n        \"num_unique_values\": 290,\n        \"samples\": [\n          57138.0,\n          73774.0,\n          55147.0\n        ],\n        \"semantic_type\": \"\",\n        \"description\": \"\"\n      }\n    }\n  ]\n}"
            }
          },
          "metadata": {},
          "execution_count": 3
        }
      ]
    },
    {
      "cell_type": "markdown",
      "source": [
        "For this data, we'll use:\n",
        "- training data: 2000 to 2015\n",
        "- validation data: 2016 to 2017\n",
        "- test data: 2018 to 2019"
      ],
      "metadata": {
        "id": "qhRAewpEwwuj"
      }
    },
    {
      "cell_type": "code",
      "source": [
        "# filter df only by 2010 to most recent\n",
        "df = df['2001-01-01':'2019-12-31']"
      ],
      "metadata": {
        "id": "v4jalRYtOUo-"
      },
      "execution_count": null,
      "outputs": []
    },
    {
      "cell_type": "code",
      "source": [
        "end_train = '2016-12-31 23:59:59'\n",
        "print(\n",
        "    f\"Train dates : {df.index.min()} --- {df.loc[:end_train].index.max()}  \"\n",
        "    f\"(n={len(df.loc[:end_train])})\"\n",
        ")\n",
        "print(\n",
        "    f\"Test dates  : {df.loc[end_train:].index.min()} --- {df.loc[:].index.max()}  \"\n",
        "    f\"(n={len(df.loc[end_train:])})\"\n",
        ")\n",
        "data_train = df.loc[:end_train]\n",
        "data_test  = df.loc[end_train:]\n",
        "\n",
        "# Plot\n",
        "# ======================================================================================\n",
        "fig, ax=plt.subplots(figsize=(7, 3))\n",
        "data_train.plot(ax=ax, label='train')\n",
        "data_test.plot(ax=ax, label='test')\n",
        "ax.set_title('Monthly US Airlines Passengers')\n",
        "ax.set_ylabel('Passengers')\n",
        "ax.legend();"
      ],
      "metadata": {
        "colab": {
          "base_uri": "https://localhost:8080/",
          "height": 369
        },
        "id": "y2f6z8sXOcwO",
        "outputId": "dd2467d7-2a30-43da-c59f-bf14241fc24e"
      },
      "execution_count": null,
      "outputs": [
        {
          "output_type": "stream",
          "name": "stdout",
          "text": [
            "Train dates : 2001-01-01 00:00:00 --- 2016-12-01 00:00:00  (n=192)\n",
            "Test dates  : 2017-01-01 00:00:00 --- 2019-12-01 00:00:00  (n=36)\n"
          ]
        },
        {
          "output_type": "display_data",
          "data": {
            "text/plain": [
              "<Figure size 700x300 with 1 Axes>"
            ],
            "image/png": "[encoded data removed]"
          },
          "metadata": {}
        }
      ]
    },
    {
      "cell_type": "markdown",
      "source": [
        "## Problem 1: Create Baseline\n",
        "\n",
        "Fill in the `!<-- fill in -->!` with the correct syntax to create a naive seasonal forecast that is the value of the same month of the previous year.\n",
        "\n",
        "Hint: to find [the docs for help](https://skforecast.org/0.12.1/user_guides/forecasting-baseline.html#forecasterequivalentdate)."
      ],
      "metadata": {
        "id": "R2AzBuMjUdki"
      }
    },
    {
      "cell_type": "code",
      "source": [
        "from skforecast.ForecasterBaseline import ForecasterEquivalentDate\n",
        "from skforecast.ForecasterAutoreg import ForecasterAutoreg\n",
        "from skforecast.model_selection import bayesian_search_forecaster\n",
        "from skforecast.model_selection import backtesting_forecaster\n",
        "from skforecast.model_selection import select_features\n",
        "\n",
        "# Convert index to DatetimeIndex with frequency\n",
        "data_train.index = pd.to_datetime(data_train.index)\n",
        "data_train = data_train.asfreq('MS')\n",
        "\n",
        "# Create baseline: value of the same month of the previous year\n",
        "# ==============================================================================\n",
        "# forecaster = ForecasterEquivalentDate(\n",
        "#                  offset    = pd.DateOffset(!<-- fill in -->!),\n",
        "#                  n_offsets = 1\n",
        "#              )\n",
        "\n",
        "# Train forecaster\n",
        "# ==============================================================================\n",
        "forecaster.fit(y=data_train['ENPLANE'])\n",
        "baseline_predict = forecaster.predict(steps=len(data_test))\n",
        "forecaster"
      ],
      "metadata": {
        "id": "1CSgjOl3T4f4"
      },
      "execution_count": 6,
      "outputs": []
    },
    {
      "cell_type": "markdown",
      "source": [
        "## Problem 2: LightGBM\n",
        "\n",
        "1. Create `ForecasterAugreg` with `LGBMRegressor` as the regressor setting the `lags` to 12 and the `differentiation` to 1. Also within `LGBMRegressor`, set the `random_state` to 123. Keep all other default parameters.\n",
        "\n",
        "2. Fit the model, use `.predict()` with the same number of steps of the `data_test` and name its predictions to `lgbm_predict`.\n",
        "\n",
        "3. Print out the details of your model by including the name of your model (e.g., if your model is named `forecaster`, then just run `forecaster`\n",
        "\n",
        "4. Then run your model with `.get_feature_importances()`. What are the top 3 most important features in your model?\n",
        "\n",
        "For an example of a similar pipeline, see [here](https://skforecast.org/0.12.1/user_guides/forecasting-xgboost-lightgbm#forecaster-lightgbm).\n",
        "\n",
        "Another difference from that examples is **do not** include exogenous variables."
      ],
      "metadata": {
        "id": "j3aqtw9SdSfF"
      }
    },
    {
      "cell_type": "code",
      "source": [
        "from lightgbm import LGBMRegressor\n",
        "\n",
        "# Create and fit forecaster\n",
        "# ==============================================================================\n",
        "# add code below"
      ],
      "metadata": {
        "id": "udnbbhwZLxN6"
      },
      "execution_count": 5,
      "outputs": []
    },
    {
      "cell_type": "code",
      "source": [
        "# forecaster.get_feature_importances()"
      ],
      "metadata": {
        "id": "-IUPtAlSMtY2"
      },
      "execution_count": 4,
      "outputs": []
    },
    {
      "cell_type": "markdown",
      "source": [
        "## Problem 3: Prediction\n",
        "\n"
      ],
      "metadata": {
        "id": "Azs4HWDYM41b"
      }
    },
    {
      "cell_type": "markdown",
      "source": [
        "1. Run the `matplotlib` plot below, showing your (1) test data, (2) baseline prediction, and (3) LGBM predictions.\n",
        "\n",
        "2. From the plot - which model does a better job predicting your test data? Do you notice noticeable pattern of your models' predictions?\n",
        "\n",
        "3. Calculate `mean_absolute_error` between `data_test` and your model predictions (so you will run `mean_absolute_error` twice). Which model has the lower Mean Absolute Error?"
      ],
      "metadata": {
        "id": "O2r7i7LNjhjb"
      }
    },
    {
      "cell_type": "code",
      "source": [
        "# fig, ax = plt.subplots(figsize=(10, 5))\n",
        "# plt.plot(data_test, label='test')\n",
        "# plt.plot(lgbm_predict, label='LGBM')\n",
        "# plt.plot(baseline_predict, label='Baseline')\n",
        "# ax.set_title('Predictions')\n",
        "# ax.legend();"
      ],
      "metadata": {
        "id": "h6PaoWpxNuqt"
      },
      "execution_count": 1,
      "outputs": []
    },
    {
      "cell_type": "code",
      "source": [
        "# sklearn mean_absolute_error\n",
        "# add code below"
      ],
      "metadata": {
        "id": "xJGODM15d6g_"
      },
      "execution_count": 2,
      "outputs": []
    },
    {
      "cell_type": "code",
      "source": [
        "# sklearn mean_absolute_error\n",
        "# add code below"
      ],
      "metadata": {
        "id": "5YaDAR6Dd_5y"
      },
      "execution_count": 3,
      "outputs": []
    },
    {
      "cell_type": "markdown",
      "source": [
        "## Problem 4: Hyperparameter Tuning"
      ],
      "metadata": {
        "id": "02EDpfNNNvJr"
      }
    },
    {
      "cell_type": "markdown",
      "source": [
        "We'll now try to tune your Boosting model.\n",
        "\n",
        "Instead of using grid or random search, we'll use [Bayesian search](https://skforecast.org/0.12.1/user_guides/hyperparameter-tuning-and-lags-selection.html#bayesian-search).\n",
        "\n",
        "Run the code below. For the best model, provide:\n",
        "1. how many estimators (trees) were used?\n",
        "2. what's the maximum depth of the trees?\n",
        "3. learning rate?\n",
        "\n",
        "4. How do these compare to the default model previously run?\n",
        "\n",
        "Plot the tuned model's prediction and mean absolute error.\n",
        "\n",
        "5. How does your tuned model compared to your previous Boosting model and baseline?"
      ],
      "metadata": {
        "id": "sdlj6gFpk6Ic"
      }
    },
    {
      "cell_type": "code",
      "source": [
        "from skforecast.model_selection import bayesian_search_forecaster\n",
        "\n",
        "# Hyperparameters search\n",
        "# ==============================================================================\n",
        "# Lags grid\n",
        "lags_grid = [6, 12]\n",
        "\n",
        "# Regressor hyperparameters search space\n",
        "def search_space(trial):\n",
        "    search_space  = {\n",
        "        'n_estimators'    : trial.suggest_int('n_estimators', 100, 600, step=100),\n",
        "        'max_depth'       : trial.suggest_int('max_depth', -1, 5, step=1),\n",
        "        'min_data_in_leaf': trial.suggest_int('min_data_in_leaf', 25, 500),\n",
        "        'learning_rate'   : trial.suggest_float('learning_rate', 0.01, 0.5),\n",
        "        'reg_alpha'       : trial.suggest_float('reg_alpha', 0, 1, step=0.1),\n",
        "        'reg_lambda'      : trial.suggest_float('reg_lambda', 0, 1, step=0.1),\n",
        "        'lags'            : trial.suggest_categorical('lags', lags_grid)\n",
        "    }\n",
        "    return search_space\n",
        "\n",
        "results_search, frozen_trial = bayesian_search_forecaster(\n",
        "    forecaster         = forecaster,\n",
        "    y                  = data_train['ENPLANE'], # Test data not used\n",
        "    search_space       = search_space,\n",
        "    steps              = len(data_test),\n",
        "    refit              = False,\n",
        "    metric             = 'mean_absolute_error',\n",
        "    initial_train_size = len(data_test),\n",
        "    fixed_train_size   = False,\n",
        "    n_trials           = 20, # Increase this value for a more exhaustive search\n",
        "    random_state       = 123,\n",
        "    return_best        = True,\n",
        "    n_jobs             = 'auto',\n",
        "    verbose            = False,\n",
        "    show_progress      = True\n",
        ")"
      ],
      "metadata": {
        "id": "DKFHbGnzNTr4"
      },
      "execution_count": 7,
      "outputs": []
    },
    {
      "cell_type": "code",
      "source": [
        "# tuned_predictor = forecaster.predict(steps=len(data_test))"
      ],
      "metadata": {
        "id": "MD4Er31dZVzZ"
      },
      "execution_count": 8,
      "outputs": []
    },
    {
      "cell_type": "code",
      "source": [
        "fig, ax = plt.subplots(figsize=(10, 5))\n",
        "plt.plot(data_test, label='test')\n",
        "plt.plot(lgbm_predict, label='LGBM')\n",
        "plt.plot(baseline_predict, label='Baseline')\n",
        "plt.plot(tuned_predictor, label='Tuned LGBM')\n",
        "ax.set_title('Predictions')\n",
        "ax.legend();"
      ],
      "metadata": {
        "id": "Uo7iHDzJaWJH"
      },
      "execution_count": 9,
      "outputs": []
    },
    {
      "cell_type": "code",
      "source": [
        "# sklearn mean_absolute_error\n",
        "# add code below"
      ],
      "metadata": {
        "id": "YuKjmvwDfr9H"
      },
      "execution_count": 10,
      "outputs": []
    }
  ]
}