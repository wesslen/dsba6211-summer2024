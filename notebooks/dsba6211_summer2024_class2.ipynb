{
  "cells": [
    {
      "cell_type": "markdown",
      "metadata": {
        "id": "view-in-github",
        "colab_type": "text"
      },
      "source": [
        "<a href=\"https://colab.research.google.com/github/wesslen/dsba6211-summer2024/blob/main/notebooks/dsba6211_summer2024_class2.ipynb\" target=\"_parent\"><img src=\"https://colab.research.google.com/assets/colab-badge.svg\" alt=\"Open In Colab\"/></a>"
      ]
    },
    {
      "cell_type": "markdown",
      "id": "2b73fc7f-935f-4cd0-b8a2-e6f2f0d80cfc",
      "metadata": {
        "id": "2b73fc7f-935f-4cd0-b8a2-e6f2f0d80cfc"
      },
      "source": [
        "# Class 2: Intro to scikit-learn\n",
        "\n",
        "DSBA6211 (Summer 2024)\n",
        "\n",
        "Ryan Wesslen\n",
        "\n",
        "## What is `scikit-learn`?\n",
        "\n",
        "-   Open source machine learning library\n",
        "-   Supports both supervised and unsupervised learning\n",
        "-   Provides tools for:\n",
        "    -   Model fitting\n",
        "    -   Data preprocessing\n",
        "    -   Model selection\n",
        "    -   Model evaluation\n",
        "    -   Various utilities\n",
        "\n",
        "------------------------------------------------------------------------\n",
        "\n",
        "## What `scikit-learn` Does Not Do\n",
        "\n",
        "-   Deep learning (use TensorFlow or PyTorch)\n",
        "-   Reinforcement learning\n",
        "-   Real-time prediction serving\n",
        "\n",
        "------------------------------------------------------------------------\n",
        "\n",
        "## Supervised vs Unsupervised Learning\n",
        "\n",
        "### Supervised Learning\n",
        "\n",
        "-   Models learn from labeled data\n",
        "-   Predict outcomes based on input features\n",
        "-   Examples:\n",
        "    -   Classification (e.g., email spam detection)\n",
        "    -   Regression (e.g., house price prediction)\n",
        "\n",
        "------------------------------------------------------------------------\n",
        "\n",
        "## Supervised vs Unsupervised Learning\n",
        "\n",
        "### Unsupervised Learning\n",
        "\n",
        "-   Models learn from unlabeled data\n",
        "-   Discover patterns or structure in data\n",
        "-   Examples:\n",
        "    -   Clustering (e.g., customer segmentation)\n",
        "    -   Dimensionality reduction (e.g., PCA)\n",
        "\n",
        "------------------------------------------------------------------------\n",
        "\n",
        "## Scikit-learn Workflow\n",
        "\n",
        "1.  **Data Collection and Preparation**: Gather, clean data\n",
        "\n",
        "2.  **Feature Engineering**: Select/transform features, standardize or\n",
        "    normalize data\n",
        "\n",
        "3.  **Model Selection**: Choose appropriate algorithm and use\n",
        "    cross-validation to evaluate\n",
        "\n",
        "4.  **Model Training**: Fit model to training data\n",
        "\n",
        "5.  **Model Evaluation**: Evaluate model on test data\n",
        "\n",
        "6.  **Model Tuning**: Optimize hyperparameters\n",
        "\n",
        "7.  **Deployment**: Deploy model for real-world use\n",
        "\n",
        "# Getting Started with `scikit-learn`\n",
        "\n",
        "These next slides follow [this\n",
        "guide](https://scikit-learn.org/stable/getting_started.html).\n",
        "\n",
        "------------------------------------------------------------------------\n",
        "\n",
        "## Installation"
      ]
    },
    {
      "cell_type": "code",
      "execution_count": null,
      "id": "d3ac784e",
      "metadata": {
        "colab": {
          "background_save": true,
          "base_uri": "https://localhost:8080/"
        },
        "id": "d3ac784e",
        "outputId": "f6b8d9d0-21b3-4439-c4d0-e74dcd0f11a1"
      },
      "outputs": [
        {
          "name": "stdout",
          "output_type": "stream",
          "text": [
            "Requirement already satisfied: scikit-learn in /usr/local/lib/python3.10/dist-packages (1.2.2)\n",
            "Requirement already satisfied: numpy>=1.17.3 in /usr/local/lib/python3.10/dist-packages (from scikit-learn) (1.25.2)\n",
            "Requirement already satisfied: scipy>=1.3.2 in /usr/local/lib/python3.10/dist-packages (from scikit-learn) (1.11.4)\n",
            "Requirement already satisfied: joblib>=1.1.1 in /usr/local/lib/python3.10/dist-packages (from scikit-learn) (1.4.2)\n",
            "Requirement already satisfied: threadpoolctl>=2.0.0 in /usr/local/lib/python3.10/dist-packages (from scikit-learn) (3.5.0)\n"
          ]
        }
      ],
      "source": [
        "!python -m pip install scikit-learn # typical way to install"
      ]
    },
    {
      "cell_type": "markdown",
      "id": "5cc8b197-e679-4a0b-8e7c-89620fcf451a",
      "metadata": {
        "id": "5cc8b197-e679-4a0b-8e7c-89620fcf451a"
      },
      "source": [
        "**Q: How to find out the latest versions of `scikit-learn`?**\n",
        "\n",
        "https://pypi.org/project/scikit-learn/\n",
        "\n",
        "------------------------------------------------------------------------\n",
        "\n",
        "## Example: Fitting an Estimator"
      ]
    },
    {
      "cell_type": "code",
      "execution_count": null,
      "id": "68a5920e",
      "metadata": {
        "colab": {
          "background_save": true
        },
        "id": "68a5920e",
        "outputId": "52cdc2e3-e3a8-4d74-f3ab-18424aa0d390"
      },
      "outputs": [
        {
          "data": {
            "text/html": [
              "<style>#sk-container-id-1 {color: black;background-color: white;}#sk-container-id-1 pre{padding: 0;}#sk-container-id-1 div.sk-toggleable {background-color: white;}#sk-container-id-1 label.sk-toggleable__label {cursor: pointer;display: block;width: 100%;margin-bottom: 0;padding: 0.3em;box-sizing: border-box;text-align: center;}#sk-container-id-1 label.sk-toggleable__label-arrow:before {content: \"▸\";float: left;margin-right: 0.25em;color: #696969;}#sk-container-id-1 label.sk-toggleable__label-arrow:hover:before {color: black;}#sk-container-id-1 div.sk-estimator:hover label.sk-toggleable__label-arrow:before {color: black;}#sk-container-id-1 div.sk-toggleable__content {max-height: 0;max-width: 0;overflow: hidden;text-align: left;background-color: #f0f8ff;}#sk-container-id-1 div.sk-toggleable__content pre {margin: 0.2em;color: black;border-radius: 0.25em;background-color: #f0f8ff;}#sk-container-id-1 input.sk-toggleable__control:checked~div.sk-toggleable__content {max-height: 200px;max-width: 100%;overflow: auto;}#sk-container-id-1 input.sk-toggleable__control:checked~label.sk-toggleable__label-arrow:before {content: \"▾\";}#sk-container-id-1 div.sk-estimator input.sk-toggleable__control:checked~label.sk-toggleable__label {background-color: #d4ebff;}#sk-container-id-1 div.sk-label input.sk-toggleable__control:checked~label.sk-toggleable__label {background-color: #d4ebff;}#sk-container-id-1 input.sk-hidden--visually {border: 0;clip: rect(1px 1px 1px 1px);clip: rect(1px, 1px, 1px, 1px);height: 1px;margin: -1px;overflow: hidden;padding: 0;position: absolute;width: 1px;}#sk-container-id-1 div.sk-estimator {font-family: monospace;background-color: #f0f8ff;border: 1px dotted black;border-radius: 0.25em;box-sizing: border-box;margin-bottom: 0.5em;}#sk-container-id-1 div.sk-estimator:hover {background-color: #d4ebff;}#sk-container-id-1 div.sk-parallel-item::after {content: \"\";width: 100%;border-bottom: 1px solid gray;flex-grow: 1;}#sk-container-id-1 div.sk-label:hover label.sk-toggleable__label {background-color: #d4ebff;}#sk-container-id-1 div.sk-serial::before {content: \"\";position: absolute;border-left: 1px solid gray;box-sizing: border-box;top: 0;bottom: 0;left: 50%;z-index: 0;}#sk-container-id-1 div.sk-serial {display: flex;flex-direction: column;align-items: center;background-color: white;padding-right: 0.2em;padding-left: 0.2em;position: relative;}#sk-container-id-1 div.sk-item {position: relative;z-index: 1;}#sk-container-id-1 div.sk-parallel {display: flex;align-items: stretch;justify-content: center;background-color: white;position: relative;}#sk-container-id-1 div.sk-item::before, #sk-container-id-1 div.sk-parallel-item::before {content: \"\";position: absolute;border-left: 1px solid gray;box-sizing: border-box;top: 0;bottom: 0;left: 50%;z-index: -1;}#sk-container-id-1 div.sk-parallel-item {display: flex;flex-direction: column;z-index: 1;position: relative;background-color: white;}#sk-container-id-1 div.sk-parallel-item:first-child::after {align-self: flex-end;width: 50%;}#sk-container-id-1 div.sk-parallel-item:last-child::after {align-self: flex-start;width: 50%;}#sk-container-id-1 div.sk-parallel-item:only-child::after {width: 0;}#sk-container-id-1 div.sk-dashed-wrapped {border: 1px dashed gray;margin: 0 0.4em 0.5em 0.4em;box-sizing: border-box;padding-bottom: 0.4em;background-color: white;}#sk-container-id-1 div.sk-label label {font-family: monospace;font-weight: bold;display: inline-block;line-height: 1.2em;}#sk-container-id-1 div.sk-label-container {text-align: center;}#sk-container-id-1 div.sk-container {/* jupyter's `normalize.less` sets `[hidden] { display: none; }` but bootstrap.min.css set `[hidden] { display: none !important; }` so we also need the `!important` here to be able to override the default hidden behavior on the sphinx rendered scikit-learn.org. See: https://github.com/scikit-learn/scikit-learn/issues/21755 */display: inline-block !important;position: relative;}#sk-container-id-1 div.sk-text-repr-fallback {display: none;}</style><div id=\"sk-container-id-1\" class=\"sk-top-container\"><div class=\"sk-text-repr-fallback\"><pre>RandomForestClassifier(random_state=0)</pre><b>In a Jupyter environment, please rerun this cell to show the HTML representation or trust the notebook. <br />On GitHub, the HTML representation is unable to render, please try loading this page with nbviewer.org.</b></div><div class=\"sk-container\" hidden><div class=\"sk-item\"><div class=\"sk-estimator sk-toggleable\"><input class=\"sk-toggleable__control sk-hidden--visually\" id=\"sk-estimator-id-1\" type=\"checkbox\" checked><label for=\"sk-estimator-id-1\" class=\"sk-toggleable__label sk-toggleable__label-arrow\">RandomForestClassifier</label><div class=\"sk-toggleable__content\"><pre>RandomForestClassifier(random_state=0)</pre></div></div></div></div></div>"
            ],
            "text/plain": [
              "RandomForestClassifier(random_state=0)"
            ]
          },
          "execution_count": 2,
          "metadata": {},
          "output_type": "execute_result"
        }
      ],
      "source": [
        "from sklearn.ensemble import RandomForestClassifier\n",
        "\n",
        "clf = RandomForestClassifier(random_state=0)\n",
        "\n",
        "X = [[1, 2, 3], [11, 12, 13]]\n",
        "y = [0, 1]\n",
        "\n",
        "clf.fit(X, y)"
      ]
    },
    {
      "cell_type": "markdown",
      "id": "4b08ed8a-7140-4d9c-8871-0f9e7be0be04",
      "metadata": {
        "id": "4b08ed8a-7140-4d9c-8871-0f9e7be0be04"
      },
      "source": [
        "------------------------------------------------------------------------\n",
        "\n",
        "## Fit Method Inputs\n",
        "\n",
        "### Samples Matrix (X)\n",
        "\n",
        "-   Size: (n_samples, n_features)\n",
        "-   Rows: samples\n",
        "-   Columns: features\n",
        "\n",
        "### Target Values (y)\n",
        "\n",
        "-   Regression: real numbers\n",
        "-   Classification: integers or discrete values\n",
        "-   Not needed for unsupervised learning\n",
        "-   1D array\n",
        "\n",
        "See the\n",
        "[`.fit()`](https://scikit-learn.org/stable/glossary.html#term-fit)\n",
        "glossary; notice there are related methods like `.fit_predict()` and\n",
        "`.fit_transform()`.\n",
        "\n",
        "------------------------------------------------------------------------\n",
        "\n",
        "## Example: Predicting"
      ]
    },
    {
      "cell_type": "code",
      "execution_count": null,
      "id": "5b4dc8b3",
      "metadata": {
        "colab": {
          "background_save": true
        },
        "id": "5b4dc8b3",
        "outputId": "bbfef062-16ab-44bb-d2d0-a5afd9fc7687"
      },
      "outputs": [
        {
          "data": {
            "text/plain": [
              "array([0, 1])"
            ]
          },
          "execution_count": 3,
          "metadata": {},
          "output_type": "execute_result"
        }
      ],
      "source": [
        "clf.predict(X)  # predict classes of the training data"
      ]
    },
    {
      "cell_type": "markdown",
      "id": "a526313e-a24f-4b83-b3b7-cd7fe55a6765",
      "metadata": {
        "id": "a526313e-a24f-4b83-b3b7-cd7fe55a6765"
      },
      "source": [
        "<br>\n",
        "\n",
        ". . ."
      ]
    },
    {
      "cell_type": "code",
      "execution_count": null,
      "id": "3bed5b2e",
      "metadata": {
        "colab": {
          "background_save": true
        },
        "id": "3bed5b2e",
        "outputId": "c10a1a1c-f515-436a-aae8-78241fe20ee8"
      },
      "outputs": [
        {
          "data": {
            "text/plain": [
              "array([0, 1])"
            ]
          },
          "execution_count": 4,
          "metadata": {},
          "output_type": "execute_result"
        }
      ],
      "source": [
        "clf.predict([[4, 5, 6], [14, 15, 16]])  # predict classes of new data"
      ]
    },
    {
      "cell_type": "markdown",
      "id": "d394cc21-f8f6-4162-b657-06912b77f610",
      "metadata": {
        "id": "d394cc21-f8f6-4162-b657-06912b77f610"
      },
      "source": [
        "<br>\n",
        "\n",
        ". . ."
      ]
    },
    {
      "cell_type": "code",
      "execution_count": null,
      "id": "d4a6964a",
      "metadata": {
        "colab": {
          "background_save": true
        },
        "id": "d4a6964a",
        "outputId": "8615ee37-d776-46b0-ad81-3192cc2fdbb8"
      },
      "outputs": [
        {
          "data": {
            "text/plain": [
              "array([[0.7 , 0.3 ],\n",
              "       [0.22, 0.78]])"
            ]
          },
          "execution_count": 5,
          "metadata": {},
          "output_type": "execute_result"
        }
      ],
      "source": [
        "clf.predict_proba([[4, 5, 6], [14, 15, 16]]) # output predicted probabilities"
      ]
    },
    {
      "cell_type": "markdown",
      "id": "1f3d10bd-9ecb-43aa-8ff0-f49e4d387498",
      "metadata": {
        "id": "1f3d10bd-9ecb-43aa-8ff0-f49e4d387498"
      },
      "source": [
        "Q: How to convert from probabilities to hard predictions?\n",
        "\n",
        "[Thresholding](https://scikit-learn.org/1.5/modules/classification_threshold.html)\n",
        "\n",
        "------------------------------------------------------------------------\n",
        "\n",
        "## Transformers and preprocessors"
      ]
    },
    {
      "cell_type": "code",
      "execution_count": null,
      "id": "8b53378c",
      "metadata": {
        "colab": {
          "background_save": true
        },
        "id": "8b53378c",
        "outputId": "87634250-2ead-446f-a6f4-a066a6161f06"
      },
      "outputs": [
        {
          "data": {
            "text/plain": [
              "array([[-1.,  1.],\n",
              "       [ 1., -1.]])"
            ]
          },
          "execution_count": 6,
          "metadata": {},
          "output_type": "execute_result"
        }
      ],
      "source": [
        "from sklearn.preprocessing import StandardScaler\n",
        "X = [[0, 15],\n",
        "     [1, -10]]\n",
        "# scale data with StandardScalar for Z transform\n",
        "StandardScaler().fit(X).transform(X)"
      ]
    },
    {
      "cell_type": "markdown",
      "id": "e89ac6ac-cab5-47a3-8306-61c4f7efa3c3",
      "metadata": {
        "id": "e89ac6ac-cab5-47a3-8306-61c4f7efa3c3"
      },
      "source": [
        "Check out [tutorial on different\n",
        "scalars](https://scikit-learn.org/stable/auto_examples/preprocessing/plot_all_scaling.html).\n",
        "\n",
        "------------------------------------------------------------------------\n",
        "\n",
        "## Pipelines"
      ]
    },
    {
      "cell_type": "code",
      "execution_count": null,
      "id": "eac6edad",
      "metadata": {
        "colab": {
          "background_save": true
        },
        "id": "eac6edad",
        "outputId": "a460cb4a-3a82-468f-d273-027162d27e5b"
      },
      "outputs": [
        {
          "data": {
            "text/plain": [
              "numpy.ndarray"
            ]
          },
          "execution_count": 7,
          "metadata": {},
          "output_type": "execute_result"
        }
      ],
      "source": [
        "from sklearn.datasets import load_iris\n",
        "# load the iris dataset and split it into train and test sets\n",
        "X, y = load_iris(return_X_y=True)\n",
        "type(X)"
      ]
    },
    {
      "cell_type": "markdown",
      "id": "ef4e8b77-6d87-4e0d-80c7-d60ada351166",
      "metadata": {
        "id": "ef4e8b77-6d87-4e0d-80c7-d60ada351166"
      },
      "source": [
        "<br>"
      ]
    },
    {
      "cell_type": "code",
      "execution_count": null,
      "id": "11cddf2f",
      "metadata": {
        "colab": {
          "background_save": true
        },
        "id": "11cddf2f",
        "outputId": "2bd322e0-e371-4e12-887a-544f696c828d"
      },
      "outputs": [
        {
          "data": {
            "text/plain": [
              "array([[5.1, 3.5, 1.4, 0.2],\n",
              "       [4.9, 3. , 1.4, 0.2],\n",
              "       [4.7, 3.2, 1.3, 0.2],\n",
              "       [4.6, 3.1, 1.5, 0.2],\n",
              "       [5. , 3.6, 1.4, 0.2]])"
            ]
          },
          "execution_count": 8,
          "metadata": {},
          "output_type": "execute_result"
        }
      ],
      "source": [
        "X[0:5]"
      ]
    },
    {
      "cell_type": "markdown",
      "id": "d00fb8ad-5e32-4287-982e-957db312362c",
      "metadata": {
        "id": "d00fb8ad-5e32-4287-982e-957db312362c"
      },
      "source": [
        "<br>"
      ]
    },
    {
      "cell_type": "code",
      "execution_count": null,
      "id": "65c804bd",
      "metadata": {
        "colab": {
          "background_save": true
        },
        "id": "65c804bd",
        "outputId": "db993d23-0c6e-41bf-ae48-e67ce0228b0f"
      },
      "outputs": [
        {
          "data": {
            "text/plain": [
              "array([0, 0, 0, 0, 0])"
            ]
          },
          "execution_count": 9,
          "metadata": {},
          "output_type": "execute_result"
        }
      ],
      "source": [
        "y[0:5]"
      ]
    },
    {
      "cell_type": "markdown",
      "id": "0937940c-a1ec-47ec-bfe1-6fe8cc2a9260",
      "metadata": {
        "id": "0937940c-a1ec-47ec-bfe1-6fe8cc2a9260"
      },
      "source": [
        "------------------------------------------------------------------------\n",
        "\n",
        "## Pipelines"
      ]
    },
    {
      "cell_type": "code",
      "execution_count": null,
      "id": "a1eb1a32",
      "metadata": {
        "colab": {
          "background_save": true
        },
        "id": "a1eb1a32",
        "outputId": "0091abc4-b884-43d9-d055-082f429941ae"
      },
      "outputs": [
        {
          "name": "stdout",
          "output_type": "stream",
          "text": [
            "(112, 4)\n"
          ]
        }
      ],
      "source": [
        "from sklearn.model_selection import train_test_split\n",
        "\n",
        "X_train, X_test, y_train, y_test = train_test_split(X, y, random_state=0)\n",
        "\n",
        "print(X_train.shape)"
      ]
    },
    {
      "cell_type": "markdown",
      "id": "bbb91a63-d9df-4b91-9efa-7e0f5b72b6c8",
      "metadata": {
        "id": "bbb91a63-d9df-4b91-9efa-7e0f5b72b6c8"
      },
      "source": [
        "<br>"
      ]
    },
    {
      "cell_type": "code",
      "execution_count": null,
      "id": "6ff8cb5e",
      "metadata": {
        "colab": {
          "background_save": true
        },
        "id": "6ff8cb5e",
        "outputId": "80d1fbc8-c6ec-427b-e34e-ae7f5990b5d2"
      },
      "outputs": [
        {
          "data": {
            "text/plain": [
              "array([[5.9, 3. , 4.2, 1.5],\n",
              "       [5.8, 2.6, 4. , 1.2],\n",
              "       [6.8, 3. , 5.5, 2.1],\n",
              "       [4.7, 3.2, 1.3, 0.2],\n",
              "       [6.9, 3.1, 5.1, 2.3]])"
            ]
          },
          "execution_count": 11,
          "metadata": {},
          "output_type": "execute_result"
        }
      ],
      "source": [
        "X_train[0:5]"
      ]
    },
    {
      "cell_type": "markdown",
      "id": "394173d7-93b4-46f6-9cfb-dd173ccacbf1",
      "metadata": {
        "id": "394173d7-93b4-46f6-9cfb-dd173ccacbf1"
      },
      "source": [
        "<br>"
      ]
    },
    {
      "cell_type": "code",
      "execution_count": null,
      "id": "3a2087ea",
      "metadata": {
        "colab": {
          "background_save": true
        },
        "id": "3a2087ea",
        "outputId": "622c6437-2670-432b-b3ba-f81545445a59"
      },
      "outputs": [
        {
          "data": {
            "text/plain": [
              "array([1, 1, 2, 0, 2])"
            ]
          },
          "execution_count": 12,
          "metadata": {},
          "output_type": "execute_result"
        }
      ],
      "source": [
        "y_train[0:5]"
      ]
    },
    {
      "cell_type": "markdown",
      "id": "c261e060-022a-43af-bc95-a288be5d9fa6",
      "metadata": {
        "id": "c261e060-022a-43af-bc95-a288be5d9fa6"
      },
      "source": [
        "------------------------------------------------------------------------\n",
        "\n",
        "## Pipelines\n",
        "\n",
        "![](https://learningds.org/_images/TrainTestDiagram.png)\n",
        "\n",
        "[Chapter 16.2 Learning Data\n",
        "Science](https://learningds.org/ch/16/ms_train_test.html)\n",
        "\n",
        "------------------------------------------------------------------------\n",
        "\n",
        "## Q: What role does the random seed play in partitioning?"
      ]
    },
    {
      "cell_type": "code",
      "execution_count": null,
      "id": "5ffa54a8",
      "metadata": {
        "colab": {
          "background_save": true
        },
        "id": "5ffa54a8",
        "outputId": "1544d70c-4c83-4a49-82a2-f415ab0e8f77"
      },
      "outputs": [
        {
          "data": {
            "text/plain": [
              "array([[6.5, 2.8, 4.6, 1.5],\n",
              "       [6.7, 2.5, 5.8, 1.8]])"
            ]
          },
          "execution_count": 13,
          "metadata": {},
          "output_type": "execute_result"
        }
      ],
      "source": [
        "X_train, X_test, y_train, y_test = train_test_split(X, y, random_state=1)\n",
        "\n",
        "X_train[0:2]"
      ]
    },
    {
      "cell_type": "markdown",
      "id": "56e0df5a-558d-42a1-900f-2f688a824a25",
      "metadata": {
        "id": "56e0df5a-558d-42a1-900f-2f688a824a25"
      },
      "source": [
        ". . .\n",
        "\n",
        "<br>"
      ]
    },
    {
      "cell_type": "code",
      "execution_count": null,
      "id": "5bad53e4",
      "metadata": {
        "colab": {
          "background_save": true
        },
        "id": "5bad53e4",
        "outputId": "7ae28732-96a1-4846-efd6-873ec9d3599f"
      },
      "outputs": [
        {
          "data": {
            "text/plain": [
              "array([[5.9, 3. , 4.2, 1.5],\n",
              "       [5.8, 2.6, 4. , 1.2]])"
            ]
          },
          "execution_count": 14,
          "metadata": {},
          "output_type": "execute_result"
        }
      ],
      "source": [
        "X_train, X_test, y_train, y_test = train_test_split(X, y, random_state=0)\n",
        "\n",
        "X_train[0:2]"
      ]
    },
    {
      "cell_type": "markdown",
      "id": "439aaf49-87c3-48c1-af9d-15a35368dc3d",
      "metadata": {
        "id": "439aaf49-87c3-48c1-af9d-15a35368dc3d"
      },
      "source": [
        "The\n",
        "[`random_state`](https://scikit-learn.org/stable/glossary.html#term-random_state)\n",
        "is also used in some estimators like the\n",
        "[`RandomForestClassifier`](https://scikit-learn.org/stable/modules/generated/sklearn.ensemble.RandomForestClassifier.html).\n",
        "\n",
        "------------------------------------------------------------------------\n",
        "\n",
        "## Pipelines"
      ]
    },
    {
      "cell_type": "code",
      "execution_count": null,
      "id": "1fe42815",
      "metadata": {
        "colab": {
          "background_save": true
        },
        "id": "1fe42815",
        "outputId": "b81094ed-3c30-44dc-855f-f9278f4ff5d3"
      },
      "outputs": [
        {
          "data": {
            "text/html": [
              "<style>#sk-container-id-2 {color: black;background-color: white;}#sk-container-id-2 pre{padding: 0;}#sk-container-id-2 div.sk-toggleable {background-color: white;}#sk-container-id-2 label.sk-toggleable__label {cursor: pointer;display: block;width: 100%;margin-bottom: 0;padding: 0.3em;box-sizing: border-box;text-align: center;}#sk-container-id-2 label.sk-toggleable__label-arrow:before {content: \"▸\";float: left;margin-right: 0.25em;color: #696969;}#sk-container-id-2 label.sk-toggleable__label-arrow:hover:before {color: black;}#sk-container-id-2 div.sk-estimator:hover label.sk-toggleable__label-arrow:before {color: black;}#sk-container-id-2 div.sk-toggleable__content {max-height: 0;max-width: 0;overflow: hidden;text-align: left;background-color: #f0f8ff;}#sk-container-id-2 div.sk-toggleable__content pre {margin: 0.2em;color: black;border-radius: 0.25em;background-color: #f0f8ff;}#sk-container-id-2 input.sk-toggleable__control:checked~div.sk-toggleable__content {max-height: 200px;max-width: 100%;overflow: auto;}#sk-container-id-2 input.sk-toggleable__control:checked~label.sk-toggleable__label-arrow:before {content: \"▾\";}#sk-container-id-2 div.sk-estimator input.sk-toggleable__control:checked~label.sk-toggleable__label {background-color: #d4ebff;}#sk-container-id-2 div.sk-label input.sk-toggleable__control:checked~label.sk-toggleable__label {background-color: #d4ebff;}#sk-container-id-2 input.sk-hidden--visually {border: 0;clip: rect(1px 1px 1px 1px);clip: rect(1px, 1px, 1px, 1px);height: 1px;margin: -1px;overflow: hidden;padding: 0;position: absolute;width: 1px;}#sk-container-id-2 div.sk-estimator {font-family: monospace;background-color: #f0f8ff;border: 1px dotted black;border-radius: 0.25em;box-sizing: border-box;margin-bottom: 0.5em;}#sk-container-id-2 div.sk-estimator:hover {background-color: #d4ebff;}#sk-container-id-2 div.sk-parallel-item::after {content: \"\";width: 100%;border-bottom: 1px solid gray;flex-grow: 1;}#sk-container-id-2 div.sk-label:hover label.sk-toggleable__label {background-color: #d4ebff;}#sk-container-id-2 div.sk-serial::before {content: \"\";position: absolute;border-left: 1px solid gray;box-sizing: border-box;top: 0;bottom: 0;left: 50%;z-index: 0;}#sk-container-id-2 div.sk-serial {display: flex;flex-direction: column;align-items: center;background-color: white;padding-right: 0.2em;padding-left: 0.2em;position: relative;}#sk-container-id-2 div.sk-item {position: relative;z-index: 1;}#sk-container-id-2 div.sk-parallel {display: flex;align-items: stretch;justify-content: center;background-color: white;position: relative;}#sk-container-id-2 div.sk-item::before, #sk-container-id-2 div.sk-parallel-item::before {content: \"\";position: absolute;border-left: 1px solid gray;box-sizing: border-box;top: 0;bottom: 0;left: 50%;z-index: -1;}#sk-container-id-2 div.sk-parallel-item {display: flex;flex-direction: column;z-index: 1;position: relative;background-color: white;}#sk-container-id-2 div.sk-parallel-item:first-child::after {align-self: flex-end;width: 50%;}#sk-container-id-2 div.sk-parallel-item:last-child::after {align-self: flex-start;width: 50%;}#sk-container-id-2 div.sk-parallel-item:only-child::after {width: 0;}#sk-container-id-2 div.sk-dashed-wrapped {border: 1px dashed gray;margin: 0 0.4em 0.5em 0.4em;box-sizing: border-box;padding-bottom: 0.4em;background-color: white;}#sk-container-id-2 div.sk-label label {font-family: monospace;font-weight: bold;display: inline-block;line-height: 1.2em;}#sk-container-id-2 div.sk-label-container {text-align: center;}#sk-container-id-2 div.sk-container {/* jupyter's `normalize.less` sets `[hidden] { display: none; }` but bootstrap.min.css set `[hidden] { display: none !important; }` so we also need the `!important` here to be able to override the default hidden behavior on the sphinx rendered scikit-learn.org. See: https://github.com/scikit-learn/scikit-learn/issues/21755 */display: inline-block !important;position: relative;}#sk-container-id-2 div.sk-text-repr-fallback {display: none;}</style><div id=\"sk-container-id-2\" class=\"sk-top-container\"><div class=\"sk-text-repr-fallback\"><pre>Pipeline(steps=[(&#x27;standardscaler&#x27;, StandardScaler()),\n",
              "                (&#x27;logisticregression&#x27;, LogisticRegression())])</pre><b>In a Jupyter environment, please rerun this cell to show the HTML representation or trust the notebook. <br />On GitHub, the HTML representation is unable to render, please try loading this page with nbviewer.org.</b></div><div class=\"sk-container\" hidden><div class=\"sk-item sk-dashed-wrapped\"><div class=\"sk-label-container\"><div class=\"sk-label sk-toggleable\"><input class=\"sk-toggleable__control sk-hidden--visually\" id=\"sk-estimator-id-2\" type=\"checkbox\" ><label for=\"sk-estimator-id-2\" class=\"sk-toggleable__label sk-toggleable__label-arrow\">Pipeline</label><div class=\"sk-toggleable__content\"><pre>Pipeline(steps=[(&#x27;standardscaler&#x27;, StandardScaler()),\n",
              "                (&#x27;logisticregression&#x27;, LogisticRegression())])</pre></div></div></div><div class=\"sk-serial\"><div class=\"sk-item\"><div class=\"sk-estimator sk-toggleable\"><input class=\"sk-toggleable__control sk-hidden--visually\" id=\"sk-estimator-id-3\" type=\"checkbox\" ><label for=\"sk-estimator-id-3\" class=\"sk-toggleable__label sk-toggleable__label-arrow\">StandardScaler</label><div class=\"sk-toggleable__content\"><pre>StandardScaler()</pre></div></div></div><div class=\"sk-item\"><div class=\"sk-estimator sk-toggleable\"><input class=\"sk-toggleable__control sk-hidden--visually\" id=\"sk-estimator-id-4\" type=\"checkbox\" ><label for=\"sk-estimator-id-4\" class=\"sk-toggleable__label sk-toggleable__label-arrow\">LogisticRegression</label><div class=\"sk-toggleable__content\"><pre>LogisticRegression()</pre></div></div></div></div></div></div></div>"
            ],
            "text/plain": [
              "Pipeline(steps=[('standardscaler', StandardScaler()),\n",
              "                ('logisticregression', LogisticRegression())])"
            ]
          },
          "execution_count": 15,
          "metadata": {},
          "output_type": "execute_result"
        }
      ],
      "source": [
        "from sklearn.preprocessing import StandardScaler\n",
        "from sklearn.linear_model import LogisticRegression\n",
        "from sklearn.pipeline import make_pipeline\n",
        "\n",
        "# create a pipeline object\n",
        "pipe = make_pipeline(StandardScaler(),LogisticRegression())\n",
        "\n",
        "# fit the whole pipeline\n",
        "pipe.fit(X_train, y_train)"
      ]
    },
    {
      "cell_type": "markdown",
      "id": "fc0fc4ce-537f-4547-b06e-931d7158c688",
      "metadata": {
        "id": "fc0fc4ce-537f-4547-b06e-931d7158c688"
      },
      "source": [
        "------------------------------------------------------------------------\n",
        "\n",
        "## Pipelines\n",
        "\n",
        "We can now predict on the pipeline"
      ]
    },
    {
      "cell_type": "code",
      "execution_count": null,
      "id": "b43fafef",
      "metadata": {
        "colab": {
          "background_save": true
        },
        "id": "b43fafef",
        "outputId": "b83f2bc5-3b4a-4f87-ebc4-f1519c6d2bbd"
      },
      "outputs": [
        {
          "data": {
            "text/plain": [
              "array([[5.8, 2.8, 5.1, 2.4],\n",
              "       [6. , 2.2, 4. , 1. ],\n",
              "       [5.5, 4.2, 1.4, 0.2],\n",
              "       [7.3, 2.9, 6.3, 1.8],\n",
              "       [5. , 3.4, 1.5, 0.2]])"
            ]
          },
          "execution_count": 16,
          "metadata": {},
          "output_type": "execute_result"
        }
      ],
      "source": [
        "X_test[0:5]"
      ]
    },
    {
      "cell_type": "markdown",
      "id": "9e630afc-dacc-4628-84ee-92b7318bd145",
      "metadata": {
        "id": "9e630afc-dacc-4628-84ee-92b7318bd145"
      },
      "source": [
        "<br>"
      ]
    },
    {
      "cell_type": "code",
      "execution_count": null,
      "id": "541e90f2",
      "metadata": {
        "colab": {
          "background_save": true
        },
        "id": "541e90f2",
        "outputId": "5b8b69b9-2d03-4c4a-ee3d-d2070f2752bf"
      },
      "outputs": [
        {
          "data": {
            "text/plain": [
              "array([2, 1, 0, 2, 0])"
            ]
          },
          "execution_count": 17,
          "metadata": {},
          "output_type": "execute_result"
        }
      ],
      "source": [
        "pipe.predict(X_test[0:5])"
      ]
    },
    {
      "cell_type": "markdown",
      "id": "4bac1d08-7702-457d-89ea-23ff9e4c0ee6",
      "metadata": {
        "id": "4bac1d08-7702-457d-89ea-23ff9e4c0ee6"
      },
      "source": [
        "------------------------------------------------------------------------\n",
        "\n",
        "## Pipelines: metrics\n",
        "\n",
        "Or we can also use that to calculate metrics like accuracy."
      ]
    },
    {
      "cell_type": "code",
      "execution_count": null,
      "id": "ec6f0183",
      "metadata": {
        "colab": {
          "background_save": true
        },
        "id": "ec6f0183",
        "outputId": "647a42ca-e96f-43ed-a605-07004f5f404d"
      },
      "outputs": [
        {
          "data": {
            "text/plain": [
              "0.9736842105263158"
            ]
          },
          "execution_count": 18,
          "metadata": {},
          "output_type": "execute_result"
        }
      ],
      "source": [
        "from sklearn.metrics import accuracy_score\n",
        "# we can now use it like any other estimator\n",
        "accuracy_score(pipe.predict(X_test), y_test)"
      ]
    },
    {
      "cell_type": "markdown",
      "id": "18216b0d-4d55-4050-9f1a-aac87f71616d",
      "metadata": {
        "id": "18216b0d-4d55-4050-9f1a-aac87f71616d"
      },
      "source": [
        "------------------------------------------------------------------------\n",
        "\n",
        "## Pipelines: metrics\n",
        "\n",
        "There are many [other\n",
        "metrics](https://scikit-learn.org/stable/modules/model_evaluation.html#common-cases-predefined-values):\n",
        "\n",
        "-   Classification: `balanced_accuracy`, `precision`, `recall`, `f1`,\n",
        "    `f1_micro`, `f1_macro`, `roc_auc`\n",
        "-   Regression: `r2`, `explained_variance`, `mean_squared_error`\n",
        "-   Or you can create custom metrics too!\n",
        "\n",
        "There are helpful tutorials on creating diagnostics tools like\n",
        "[precision-recall\n",
        "curves](https://scikit-learn.org/stable/auto_examples/model_selection/plot_precision_recall.html#sphx-glr-auto-examples-model-selection-plot-precision-recall-py)\n",
        "\n",
        "------------------------------------------------------------------------\n",
        "\n",
        "## Model Evaluation: Cross-Validation"
      ]
    },
    {
      "cell_type": "code",
      "execution_count": null,
      "id": "6e635eb1",
      "metadata": {
        "colab": {
          "background_save": true
        },
        "id": "6e635eb1",
        "outputId": "f4dd5403-d8e3-4040-9c82-b82a5c5337a6"
      },
      "outputs": [
        {
          "data": {
            "text/plain": [
              "array([0.99602021, 0.99388108, 0.99537012, 0.99633561, 0.99526797])"
            ]
          },
          "execution_count": 19,
          "metadata": {},
          "output_type": "execute_result"
        }
      ],
      "source": [
        "from sklearn.datasets import make_regression\n",
        "from sklearn.linear_model import LinearRegression\n",
        "from sklearn.model_selection import cross_validate\n",
        "\n",
        "X, y = make_regression(n_samples=1000, noise=10, random_state=0)\n",
        "\n",
        "lr = LinearRegression()\n",
        "\n",
        "result = cross_validate(lr, X, y)  # defaults to 5-fold CV\n",
        "\n",
        "result['test_score']  # r_squared score is high because dataset is easy"
      ]
    },
    {
      "cell_type": "markdown",
      "id": "f0acf0b4-1b1c-4248-9146-df258c617111",
      "metadata": {
        "id": "f0acf0b4-1b1c-4248-9146-df258c617111"
      },
      "source": [
        "------------------------------------------------------------------------\n",
        "\n",
        "## Model Evaluation: Cross-Validation\n",
        "\n",
        "![](https://learningds.org/_images/CVDiagram.png)\n",
        "\n",
        "[Chapter 16.3 Learning Data\n",
        "Science](https://learningds.org/ch/16/ms_cv.html)\n",
        "\n",
        "**Q: What is cross-validation used for?**\n",
        "\n",
        "------------------------------------------------------------------------\n",
        "\n",
        "## Hyperparameter tuning"
      ]
    },
    {
      "cell_type": "code",
      "execution_count": null,
      "id": "6850712f",
      "metadata": {
        "colab": {
          "background_save": true
        },
        "id": "6850712f",
        "outputId": "b39eefb3-caed-4bc3-9c32-2d2c9cf1d0ed"
      },
      "outputs": [
        {
          "data": {
            "text/plain": [
              "{'max_depth': 9, 'n_estimators': 4}"
            ]
          },
          "execution_count": 20,
          "metadata": {},
          "output_type": "execute_result"
        }
      ],
      "source": [
        "from sklearn.ensemble import RandomForestRegressor\n",
        "from sklearn.model_selection import RandomizedSearchCV\n",
        "from scipy.stats import randint\n",
        "\n",
        "search = RandomizedSearchCV(estimator=RandomForestRegressor(random_state=0),\n",
        "                            n_iter=5,\n",
        "                            param_distributions={'n_estimators': randint(1, 5),\n",
        "                                                 'max_depth': randint(5, 10)},\n",
        "                            random_state=0)\n",
        "\n",
        "mod_cv = search.fit(X_train, y_train)\n",
        "\n",
        "mod_cv.best_params_"
      ]
    },
    {
      "cell_type": "markdown",
      "id": "de68207d-8884-4a20-a503-a072fa4cbf97",
      "metadata": {
        "id": "de68207d-8884-4a20-a503-a072fa4cbf97"
      },
      "source": [
        "<br>"
      ]
    },
    {
      "cell_type": "code",
      "execution_count": null,
      "id": "fcf65071",
      "metadata": {
        "colab": {
          "background_save": true
        },
        "id": "fcf65071",
        "outputId": "24e8a54d-0ccc-4dd6-f65e-a7aff765294e"
      },
      "outputs": [
        {
          "data": {
            "text/plain": [
              "0.9710365853658537"
            ]
          },
          "execution_count": 21,
          "metadata": {},
          "output_type": "execute_result"
        }
      ],
      "source": [
        "mod_cv.score(X_test, y_test)"
      ]
    },
    {
      "cell_type": "markdown",
      "id": "f26a12c9-e161-4c81-912b-508cc5dcb7bd",
      "metadata": {
        "id": "f26a12c9-e161-4c81-912b-508cc5dcb7bd"
      },
      "source": [
        "------------------------------------------------------------------------\n",
        "\n",
        "## Avoiding Data Leakage\n",
        "\n",
        "> In practice, you almost always want to search over a pipeline, instead\n",
        "> of a single estimator. One of the main reasons is that if you apply a\n",
        "> pre-processing step to the whole dataset without using a pipeline, and\n",
        "> then perform any kind of cross-validation, you would be breaking the\n",
        "> fundamental assumption of independence between training and testing\n",
        "> data. Indeed, since you pre-processed the data using the whole\n",
        "> dataset, some information about the test sets are available to the\n",
        "> train sets. This will lead to over-estimating the generalization power\n",
        "> of the estimator.\n",
        "\n",
        "------------------------------------------------------------------------\n",
        "\n",
        "## Tips on avoiding Data Leakage\n",
        "\n",
        "1.  Always split the data into train and test subsets first,\n",
        "    particularly before any preprocessing steps.\n",
        "\n",
        "2.  Never include test data when using the `fit` and `fit_transform`\n",
        "    methods. Using all the data, e.g., `fit(X)`, can result in overly\n",
        "    optimistic scores.\n",
        "\n",
        "3.  Conversely, the `transform` method should be used on both train and\n",
        "    test subsets as the same preprocessing should be applied to all the\n",
        "    data. This can be achieved by using `fit_transform` on the train\n",
        "    subset and transform on the test subset.\n",
        "\n",
        "# Logistic Regression, Regularization, and other Classifiers\n",
        "\n",
        "------------------------------------------------------------------------\n",
        "\n",
        "## Logistic Regression\n",
        "\n",
        "-   Used to make class (category) predictions\n",
        "-   Despite its name, it is implemented as a linear model for\n",
        "    classification rather than regression\n",
        "-   Sometimes referred to as logit regression, maximum-entropy\n",
        "    classification (MaxEnt) or the log-linear classifier\n",
        "-   Binary, One-vs-Rest, or multinomial logistic regression with\n",
        "    optional l1, l2, or Elastic-Net regularization.\n",
        "-   It is a special case of [Generalized Linear\n",
        "    Models](https://scikit-learn.org/1.4/modules/linear_model.html#generalized-linear-models)\n",
        "    with a Binomial/Bernoulli conditional distribution and a Logit link.\n",
        "\n",
        "------------------------------------------------------------------------\n",
        "\n",
        "## Why not Linear Regression?\n",
        "\n",
        "-   For classification problems, linear regression is not the right\n",
        "    approach as it will give too much weight to data far from the\n",
        "    decision frontier.\n",
        "\n",
        "-   A linear approach is to fit a sigmoid function or logistic function\n",
        "\n",
        "------------------------------------------------------------------------\n",
        "\n",
        "## Logistic Regression"
      ]
    },
    {
      "cell_type": "code",
      "execution_count": null,
      "id": "4caf4c9e",
      "metadata": {
        "colab": {
          "background_save": true
        },
        "id": "4caf4c9e",
        "outputId": "26b1936a-619b-4543-fce1-ea3d7a099b15"
      },
      "outputs": [
        {
          "data": {
            "text/plain": [
              "array([[-36.46940519,  30.76898409],\n",
              "       [ 17.15831856, -15.45041831],\n",
              "       [ 19.31108663, -15.31856578]])"
            ]
          },
          "execution_count": 22,
          "metadata": {},
          "output_type": "execute_result"
        }
      ],
      "source": [
        "from sklearn.linear_model import LogisticRegression\n",
        "# Create an instance of Logistic Regression Classifier and fit the data.\n",
        "logreg = LogisticRegression(C=1e5)\n",
        "logreg.fit(X_train[:, :2], y_train) # only take first two features\n",
        "\n",
        "logreg.coef_"
      ]
    },
    {
      "cell_type": "markdown",
      "id": "ea63a5c5-7cad-4dbd-b483-07b72ff5e277",
      "metadata": {
        "id": "ea63a5c5-7cad-4dbd-b483-07b72ff5e277"
      },
      "source": [
        "<br>"
      ]
    },
    {
      "cell_type": "code",
      "execution_count": null,
      "id": "ee735af7",
      "metadata": {
        "colab": {
          "background_save": true
        },
        "id": "ee735af7",
        "outputId": "e4f47219-bf3f-421b-864a-cd1ae93768b9"
      },
      "outputs": [
        {
          "data": {
            "text/plain": [
              "0.7631578947368421"
            ]
          },
          "execution_count": 23,
          "metadata": {},
          "output_type": "execute_result"
        }
      ],
      "source": [
        "from sklearn.metrics import accuracy_score\n",
        "\n",
        "accuracy_score(logreg.predict(X_test[:, :2]), y_test)"
      ]
    },
    {
      "cell_type": "markdown",
      "id": "a74d258d-8748-454b-add9-e39f028e229c",
      "metadata": {
        "id": "a74d258d-8748-454b-add9-e39f028e229c"
      },
      "source": [
        "------------------------------------------------------------------------\n",
        "\n",
        "## Logistic Regression"
      ]
    },
    {
      "cell_type": "code",
      "execution_count": null,
      "id": "2701b800",
      "metadata": {
        "colab": {
          "background_save": true
        },
        "id": "2701b800",
        "outputId": "d32a258a-cf3e-4400-b385-bd453a51cdd2"
      },
      "outputs": [
        {
          "data": {
            "image/png": "[encoded data removed]",
            "text/plain": [
              "<Figure size 800x600 with 1 Axes>"
            ]
          },
          "metadata": {},
          "output_type": "display_data"
        }
      ],
      "source": [
        "import matplotlib.pyplot as plt\n",
        "\n",
        "from sklearn.inspection import DecisionBoundaryDisplay\n",
        "\n",
        "_, ax = plt.subplots(figsize=(8, 6))\n",
        "DecisionBoundaryDisplay.from_estimator(\n",
        "    logreg,\n",
        "    X_test[:, :2],\n",
        "    cmap=plt.cm.Paired,\n",
        "    ax=ax,\n",
        "    response_method=\"predict\",\n",
        "    plot_method=\"pcolormesh\",\n",
        "    shading=\"auto\",\n",
        "    xlabel=\"Sepal length\",\n",
        "    ylabel=\"Sepal width\",\n",
        "    eps=0.5,\n",
        ")\n",
        "\n",
        "# Plot also the training points\n",
        "plt.scatter(X_test[:, 0], X_test[:, 1], c=y_test, edgecolors=\"k\", cmap=plt.cm.Paired)\n",
        "\n",
        "plt.show()"
      ]
    },
    {
      "cell_type": "markdown",
      "id": "55dcf1dc-6193-4fab-986a-6041fe24cb2a",
      "metadata": {
        "id": "55dcf1dc-6193-4fab-986a-6041fe24cb2a"
      },
      "source": [
        "------------------------------------------------------------------------\n",
        "\n",
        "## What is the `C` parameter?\n",
        "\n",
        "------------------------------------------------------------------------\n",
        "\n",
        "## Regularization by default"
      ]
    },
    {
      "cell_type": "raw",
      "id": "bdf298c0-13f1-411b-9169-e4950e33d95a",
      "metadata": {
        "id": "bdf298c0-13f1-411b-9169-e4950e33d95a"
      },
      "source": [
        "<blockquote class=\"twitter-tweet\">"
      ]
    },
    {
      "cell_type": "raw",
      "id": "b44aaa4b-72f9-43e3-975a-3a261a33c59c",
      "metadata": {
        "id": "b44aaa4b-72f9-43e3-975a-3a261a33c59c"
      },
      "source": [
        "<p lang=\"en\" dir=\"ltr\">"
      ]
    },
    {
      "cell_type": "markdown",
      "id": "dea9fbbf-5a16-4b45-a068-33be23f7fb23",
      "metadata": {
        "id": "dea9fbbf-5a16-4b45-a068-33be23f7fb23"
      },
      "source": [
        "By default, logistic regression in scikit-learn runs w L2 regularization\n",
        "on and defaulting to magic number C=1.0. How many millions of\n",
        "ML/stats/data-mining papers have been written by authors who didn't\n",
        "report (& honestly didn't think they were) using regularization?"
      ]
    },
    {
      "cell_type": "markdown",
      "id": "7190ae79-7008-4cf5-bd63-420e67eb1d0b",
      "metadata": {
        "id": "7190ae79-7008-4cf5-bd63-420e67eb1d0b"
      },
      "source": [
        "— Zachary Lipton (@zacharylipton)\n",
        "<a href=\"https://twitter.com/zacharylipton/status/1167298276686589953?ref_src=twsrc%5Etfw\">August\n",
        "30, 2019</a>"
      ]
    },
    {
      "cell_type": "markdown",
      "id": "ef98ca39-a659-4c18-9e77-f0d2f18dd093",
      "metadata": {
        "id": "ef98ca39-a659-4c18-9e77-f0d2f18dd093"
      },
      "source": [
        "[r y x r’s Scikit-learn’s defaults are wrong\n",
        "blog](https://ryxcommar.com/2019/08/30/scikit-learns-defaults-are-wrong/)\n",
        "\n",
        "------------------------------------------------------------------------\n",
        "\n",
        "## Motivation\n",
        "\n",
        "**Regularization**: add penalty to loss function for larger coefficients\n",
        "\n",
        "-   this will induce small “bias” but reduce variance\n",
        "-   which (typically) yields better out-of-sample prediction (aka lower\n",
        "    overfitting)\n",
        "\n",
        "------------------------------------------------------------------------\n",
        "\n",
        "## Regularization\n",
        "\n",
        "-   **Overfitting Problem**\n",
        "    -   Occurs when the model learns noise in the training data.\n",
        "    -   Leads to high accuracy on training data but poor generalization\n",
        "        to new data.\n",
        "-   **Bias-Variance Tradeoff**\n",
        "    -   Aim to balance complexity and simplicity in the model.\n",
        "    -   Regularization helps reduce variance without significantly\n",
        "        increasing bias.\n",
        "\n",
        "------------------------------------------------------------------------\n",
        "\n",
        "## Benefits of Regularization\n",
        "\n",
        "-   Improves model generalization to unseen data.\n",
        "-   Prevents overfitting by penalizing large coefficients.\n",
        "-   Helps in selecting relevant features (L1).\n",
        "\n",
        "------------------------------------------------------------------------\n",
        "\n",
        "## Types of Regularization\n",
        "\n",
        "-   **L1 Regularization (Lasso)**\n",
        "    -   Adds absolute value of magnitude of coefficients as penalty\n",
        "        term.\n",
        "    -   Encourages sparsity, leading to feature selection.\n",
        "-   **L2 Regularization (Ridge)**\n",
        "    -   Adds squared magnitude of coefficients as penalty term.\n",
        "    -   Encourages small but non-zero coefficients, leading to more\n",
        "        stable predictions.\n",
        "-   **Elastic net** is a linear combination of both L1 and L2\n",
        "\n",
        "------------------------------------------------------------------------\n",
        "\n",
        "## Regularization: No regularization"
      ]
    },
    {
      "cell_type": "code",
      "execution_count": null,
      "id": "ff3bac66",
      "metadata": {
        "colab": {
          "background_save": true
        },
        "id": "ff3bac66",
        "outputId": "897be62c-a8a6-4009-dc37-472e8ed40d02"
      },
      "outputs": [
        {
          "data": {
            "text/plain": [
              "0.7631578947368421"
            ]
          },
          "execution_count": 25,
          "metadata": {},
          "output_type": "execute_result"
        }
      ],
      "source": [
        "# same example with regularization\n",
        "accuracy_score(logreg.predict(X_test[:, :2]), y_test)"
      ]
    },
    {
      "cell_type": "markdown",
      "id": "7c642e68-fab8-48e1-8547-7467cd7f921f",
      "metadata": {
        "id": "7c642e68-fab8-48e1-8547-7467cd7f921f"
      },
      "source": [
        "<br>"
      ]
    },
    {
      "cell_type": "code",
      "execution_count": null,
      "id": "1e345443",
      "metadata": {
        "colab": {
          "background_save": true
        },
        "id": "1e345443",
        "outputId": "5ec4301b-f30f-4474-ef43-202ea5f3e628"
      },
      "outputs": [
        {
          "data": {
            "text/plain": [
              "0.5789473684210527"
            ]
          },
          "execution_count": 26,
          "metadata": {},
          "output_type": "execute_result"
        }
      ],
      "source": [
        "from sklearn.linear_model import LogisticRegression\n",
        "# Logistic Regression with no regularization\n",
        "logreg_noreg = LogisticRegression(C=0.01)\n",
        "\n",
        "logreg_noreg.fit(X_train[:, :2], y_train)\n",
        "\n",
        "accuracy_score(logreg_noreg.predict(X_test[:, :2]), y_test)"
      ]
    },
    {
      "cell_type": "markdown",
      "id": "58a97f16-827f-4626-bf9d-d1a52b42ccca",
      "metadata": {
        "id": "58a97f16-827f-4626-bf9d-d1a52b42ccca"
      },
      "source": [
        "The explanation of why is a bit challenging. *Recommend* this\n",
        "[regularization\n",
        "lesson](https://inria.github.io/scikit-learn-mooc/python_scripts/linear_models_regularization.html)\n",
        "or [Chapter 16 in Learning Data\n",
        "Science](https://learningds.org/ch/16/ms_regularization.html)\n",
        "\n",
        "------------------------------------------------------------------------\n",
        "\n",
        "## How to find the right C value?\n",
        "\n",
        "This is where cross-validation (and GridSearch) is used!"
      ]
    },
    {
      "cell_type": "code",
      "execution_count": null,
      "id": "d00837cc",
      "metadata": {
        "colab": {
          "background_save": true
        },
        "id": "d00837cc",
        "outputId": "1f997120-3222-4bc3-c502-0631ef9ba0f0"
      },
      "outputs": [
        {
          "data": {
            "image/png": "[encoded data removed]",
            "text/plain": [
              "<Figure size 800x500 with 1 Axes>"
            ]
          },
          "metadata": {},
          "output_type": "display_data"
        }
      ],
      "source": [
        "import numpy as np\n",
        "import matplotlib.pyplot as plt\n",
        "from sklearn.datasets import load_iris\n",
        "from sklearn.model_selection import GridSearchCV\n",
        "from sklearn.linear_model import LogisticRegression\n",
        "from sklearn.preprocessing import StandardScaler\n",
        "from sklearn.pipeline import make_pipeline\n",
        "\n",
        "# Load the Iris dataset\n",
        "iris = load_iris()\n",
        "X, y = iris.data, iris.target\n",
        "\n",
        "# Create a pipeline that standardizes the data then applies Logistic Regression\n",
        "pipeline = make_pipeline(StandardScaler(), LogisticRegression(max_iter=10000, solver='saga'))\n",
        "\n",
        "# Define the range of C values and penalty types to test\n",
        "param_grid = {\n",
        "    'logisticregression__C': np.logspace(-4, 4, 20),\n",
        "    'logisticregression__penalty': ['l1', 'l2', 'elasticnet'],\n",
        "    'logisticregression__l1_ratio': [0.5]  # Only used when penalty is 'elasticnet'\n",
        "}\n",
        "\n",
        "# Set up the grid search with cross-validation\n",
        "grid_search = GridSearchCV(pipeline, param_grid, cv=5, scoring='accuracy', n_jobs=-1)\n",
        "\n",
        "# Fit the model to find the best C parameter and penalty type\n",
        "grid_search.fit(X, y)\n",
        "\n",
        "# Get the results\n",
        "results = grid_search.cv_results_\n",
        "\n",
        "# Extract data for plotting\n",
        "C_values = np.logspace(-4, 4, 20)\n",
        "penalties = ['l1', 'l2', 'elasticnet']\n",
        "mean_scores = results['mean_test_score']\n",
        "std_scores = results['std_test_score']\n",
        "params = results['params']\n",
        "\n",
        "# Organize the data by penalty\n",
        "penalty_data = {penalty: ([], [], []) for penalty in penalties}\n",
        "\n",
        "for mean, std, param in zip(mean_scores, std_scores, params):\n",
        "    penalty = param['logisticregression__penalty']\n",
        "    C = param['logisticregression__C']\n",
        "    penalty_data[penalty][0].append(C)\n",
        "    penalty_data[penalty][1].append(mean)\n",
        "    penalty_data[penalty][2].append(std)\n",
        "\n",
        "# Plotting\n",
        "plt.figure(figsize=(8, 5))\n",
        "\n",
        "for penalty, (C, mean, std) in penalty_data.items():\n",
        "    if penalty is not None:\n",
        "        label = penalty\n",
        "    else:\n",
        "        label = 'none'\n",
        "    plt.errorbar(C, mean, yerr=std, label=label, capsize=5, marker='o')\n",
        "\n",
        "plt.xscale('log')\n",
        "plt.xlabel('C value (log scale)')\n",
        "plt.ylabel('Mean Accuracy')\n",
        "plt.title('Cross-Validation Accuracy for Different Penalties and C values')\n",
        "plt.legend()\n",
        "plt.grid(True)\n",
        "plt.show()"
      ]
    }
  ],
  "metadata": {
    "colab": {
      "provenance": [],
      "include_colab_link": true
    },
    "kernelspec": {
      "display_name": "Python 3 (ipykernel)",
      "language": "python",
      "name": "python3"
    }
  },
  "nbformat": 4,
  "nbformat_minor": 5
}